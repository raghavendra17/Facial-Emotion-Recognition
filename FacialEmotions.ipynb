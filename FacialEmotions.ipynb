{
  "cells": [
    {
      "cell_type": "code",
      "execution_count": 1,
      "metadata": {
        "colab": {
          "base_uri": "https://localhost:8080/",
          "height": 109
        },
        "id": "J9uRFRI4BoCN",
        "outputId": "d69e48da-5480-4895-e8aa-6194dc0ed1a8"
      },
      "outputs": [
        {
          "output_type": "display_data",
          "data": {
            "text/plain": [
              "<IPython.core.display.HTML object>"
            ],
            "text/html": [
              "\n",
              "     <input type=\"file\" id=\"files-6382d00a-053c-4166-8bcf-b8700e4619ce\" name=\"files[]\" multiple disabled\n",
              "        style=\"border:none\" />\n",
              "     <output id=\"result-6382d00a-053c-4166-8bcf-b8700e4619ce\">\n",
              "      Upload widget is only available when the cell has been executed in the\n",
              "      current browser session. Please rerun this cell to enable.\n",
              "      </output>\n",
              "      <script>// Copyright 2017 Google LLC\n",
              "//\n",
              "// Licensed under the Apache License, Version 2.0 (the \"License\");\n",
              "// you may not use this file except in compliance with the License.\n",
              "// You may obtain a copy of the License at\n",
              "//\n",
              "//      http://www.apache.org/licenses/LICENSE-2.0\n",
              "//\n",
              "// Unless required by applicable law or agreed to in writing, software\n",
              "// distributed under the License is distributed on an \"AS IS\" BASIS,\n",
              "// WITHOUT WARRANTIES OR CONDITIONS OF ANY KIND, either express or implied.\n",
              "// See the License for the specific language governing permissions and\n",
              "// limitations under the License.\n",
              "\n",
              "/**\n",
              " * @fileoverview Helpers for google.colab Python module.\n",
              " */\n",
              "(function(scope) {\n",
              "function span(text, styleAttributes = {}) {\n",
              "  const element = document.createElement('span');\n",
              "  element.textContent = text;\n",
              "  for (const key of Object.keys(styleAttributes)) {\n",
              "    element.style[key] = styleAttributes[key];\n",
              "  }\n",
              "  return element;\n",
              "}\n",
              "\n",
              "// Max number of bytes which will be uploaded at a time.\n",
              "const MAX_PAYLOAD_SIZE = 100 * 1024;\n",
              "\n",
              "function _uploadFiles(inputId, outputId) {\n",
              "  const steps = uploadFilesStep(inputId, outputId);\n",
              "  const outputElement = document.getElementById(outputId);\n",
              "  // Cache steps on the outputElement to make it available for the next call\n",
              "  // to uploadFilesContinue from Python.\n",
              "  outputElement.steps = steps;\n",
              "\n",
              "  return _uploadFilesContinue(outputId);\n",
              "}\n",
              "\n",
              "// This is roughly an async generator (not supported in the browser yet),\n",
              "// where there are multiple asynchronous steps and the Python side is going\n",
              "// to poll for completion of each step.\n",
              "// This uses a Promise to block the python side on completion of each step,\n",
              "// then passes the result of the previous step as the input to the next step.\n",
              "function _uploadFilesContinue(outputId) {\n",
              "  const outputElement = document.getElementById(outputId);\n",
              "  const steps = outputElement.steps;\n",
              "\n",
              "  const next = steps.next(outputElement.lastPromiseValue);\n",
              "  return Promise.resolve(next.value.promise).then((value) => {\n",
              "    // Cache the last promise value to make it available to the next\n",
              "    // step of the generator.\n",
              "    outputElement.lastPromiseValue = value;\n",
              "    return next.value.response;\n",
              "  });\n",
              "}\n",
              "\n",
              "/**\n",
              " * Generator function which is called between each async step of the upload\n",
              " * process.\n",
              " * @param {string} inputId Element ID of the input file picker element.\n",
              " * @param {string} outputId Element ID of the output display.\n",
              " * @return {!Iterable<!Object>} Iterable of next steps.\n",
              " */\n",
              "function* uploadFilesStep(inputId, outputId) {\n",
              "  const inputElement = document.getElementById(inputId);\n",
              "  inputElement.disabled = false;\n",
              "\n",
              "  const outputElement = document.getElementById(outputId);\n",
              "  outputElement.innerHTML = '';\n",
              "\n",
              "  const pickedPromise = new Promise((resolve) => {\n",
              "    inputElement.addEventListener('change', (e) => {\n",
              "      resolve(e.target.files);\n",
              "    });\n",
              "  });\n",
              "\n",
              "  const cancel = document.createElement('button');\n",
              "  inputElement.parentElement.appendChild(cancel);\n",
              "  cancel.textContent = 'Cancel upload';\n",
              "  const cancelPromise = new Promise((resolve) => {\n",
              "    cancel.onclick = () => {\n",
              "      resolve(null);\n",
              "    };\n",
              "  });\n",
              "\n",
              "  // Wait for the user to pick the files.\n",
              "  const files = yield {\n",
              "    promise: Promise.race([pickedPromise, cancelPromise]),\n",
              "    response: {\n",
              "      action: 'starting',\n",
              "    }\n",
              "  };\n",
              "\n",
              "  cancel.remove();\n",
              "\n",
              "  // Disable the input element since further picks are not allowed.\n",
              "  inputElement.disabled = true;\n",
              "\n",
              "  if (!files) {\n",
              "    return {\n",
              "      response: {\n",
              "        action: 'complete',\n",
              "      }\n",
              "    };\n",
              "  }\n",
              "\n",
              "  for (const file of files) {\n",
              "    const li = document.createElement('li');\n",
              "    li.append(span(file.name, {fontWeight: 'bold'}));\n",
              "    li.append(span(\n",
              "        `(${file.type || 'n/a'}) - ${file.size} bytes, ` +\n",
              "        `last modified: ${\n",
              "            file.lastModifiedDate ? file.lastModifiedDate.toLocaleDateString() :\n",
              "                                    'n/a'} - `));\n",
              "    const percent = span('0% done');\n",
              "    li.appendChild(percent);\n",
              "\n",
              "    outputElement.appendChild(li);\n",
              "\n",
              "    const fileDataPromise = new Promise((resolve) => {\n",
              "      const reader = new FileReader();\n",
              "      reader.onload = (e) => {\n",
              "        resolve(e.target.result);\n",
              "      };\n",
              "      reader.readAsArrayBuffer(file);\n",
              "    });\n",
              "    // Wait for the data to be ready.\n",
              "    let fileData = yield {\n",
              "      promise: fileDataPromise,\n",
              "      response: {\n",
              "        action: 'continue',\n",
              "      }\n",
              "    };\n",
              "\n",
              "    // Use a chunked sending to avoid message size limits. See b/62115660.\n",
              "    let position = 0;\n",
              "    do {\n",
              "      const length = Math.min(fileData.byteLength - position, MAX_PAYLOAD_SIZE);\n",
              "      const chunk = new Uint8Array(fileData, position, length);\n",
              "      position += length;\n",
              "\n",
              "      const base64 = btoa(String.fromCharCode.apply(null, chunk));\n",
              "      yield {\n",
              "        response: {\n",
              "          action: 'append',\n",
              "          file: file.name,\n",
              "          data: base64,\n",
              "        },\n",
              "      };\n",
              "\n",
              "      let percentDone = fileData.byteLength === 0 ?\n",
              "          100 :\n",
              "          Math.round((position / fileData.byteLength) * 100);\n",
              "      percent.textContent = `${percentDone}% done`;\n",
              "\n",
              "    } while (position < fileData.byteLength);\n",
              "  }\n",
              "\n",
              "  // All done.\n",
              "  yield {\n",
              "    response: {\n",
              "      action: 'complete',\n",
              "    }\n",
              "  };\n",
              "}\n",
              "\n",
              "scope.google = scope.google || {};\n",
              "scope.google.colab = scope.google.colab || {};\n",
              "scope.google.colab._files = {\n",
              "  _uploadFiles,\n",
              "  _uploadFilesContinue,\n",
              "};\n",
              "})(self);\n",
              "</script> "
            ]
          },
          "metadata": {}
        },
        {
          "output_type": "stream",
          "name": "stdout",
          "text": [
            "Saving kaggle.json to kaggle.json\n",
            "{'kaggle.json': b'{\"username\":\"raghavendraredd1\",\"key\":\"a0cc13e433266c6685556806c4740de6\"}'}\n",
            "User uploaded file 'kaggle.json' with length 72 bytes\n"
          ]
        }
      ],
      "source": [
        "#Go to account in kaggle.create newapi token and json file is downloaded.upload it(find in downloads)\n",
        "from google.colab import files\n",
        "\n",
        "uploaded = files.upload()\n",
        "print(uploaded) #{'kaggle.json': b'{\"username\":\"raghavendraredd1\",\"key\":\"a0cc13e433266c6685556806c4740de6\"}'}\n",
        "for fn in uploaded.keys():\n",
        "  print(\"User uploaded file '{name}' with length {length} bytes\".format(name=fn,length=len(uploaded[fn])))\n",
        "\n",
        "#then move kaggle.json into folder where api expects to find it\n",
        "!mkdir -p ~/.kaggle/ && mv kaggle.json ~/.kaggle/ && chmod 600 ~/.kaggle/kaggle.json\n",
        "#Ensure kaggle.json is in the location ~/.kaggle/kaggle.json to use the API."
      ]
    },
    {
      "cell_type": "markdown",
      "metadata": {
        "id": "62AJNz9QOjp6"
      },
      "source": [
        "![image.png](data:image/png;base64,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)"
      ]
    },
    {
      "cell_type": "code",
      "execution_count": 2,
      "metadata": {
        "colab": {
          "base_uri": "https://localhost:8080/"
        },
        "id": "99IIzbY1NhcM",
        "outputId": "d156a86a-4bb0-49e1-83de-647e23a189da"
      },
      "outputs": [
        {
          "output_type": "stream",
          "name": "stdout",
          "text": [
            "Downloading fer2013.zip to /content\n",
            " 95% 92.0M/96.6M [00:00<00:00, 178MB/s]\n",
            "100% 96.6M/96.6M [00:00<00:00, 169MB/s]\n"
          ]
        }
      ],
      "source": [
        "!kaggle datasets download -d deadskull7/fer2013 \n",
        "#Copy API command"
      ]
    },
    {
      "cell_type": "code",
      "execution_count": 3,
      "metadata": {
        "colab": {
          "base_uri": "https://localhost:8080/"
        },
        "id": "E-qvTeR8P84p",
        "outputId": "c0575dd4-3657-45d9-e2dd-d450e60772e1"
      },
      "outputs": [
        {
          "output_type": "stream",
          "name": "stdout",
          "text": [
            "Archive:  fer2013.zip\n",
            "replace fer2013.csv? [y]es, [n]o, [A]ll, [N]one, [r]ename: n\n"
          ]
        }
      ],
      "source": [
        "!unzip fer2013.zip"
      ]
    },
    {
      "cell_type": "code",
      "source": [
        "!rm fer2013.zip"
      ],
      "metadata": {
        "id": "Z0jROPqdKtj7"
      },
      "execution_count": 4,
      "outputs": []
    },
    {
      "cell_type": "markdown",
      "source": [
        "### Importing Required Libraries"
      ],
      "metadata": {
        "id": "HWLR_PgsJv0h"
      }
    },
    {
      "cell_type": "code",
      "execution_count": 6,
      "metadata": {
        "id": "WpXpTbr9RcMk"
      },
      "outputs": [],
      "source": [
        "import pandas as pd\n",
        "import numpy as np\n",
        "import plotly.express as px\n",
        "import matplotlib.pyplot as plt\n",
        "\n",
        "import tensorflow as tf\n",
        "import keras\n",
        "import keras.utils\n",
        "from tensorflow.keras.utils import to_categorical\n",
        "from sklearn.preprocessing import StandardScaler\n",
        "from sklearn.model_selection import train_test_split\n",
        "from keras.preprocessing.image import ImageDataGenerator\n",
        "import random\n",
        "import seaborn as sns\n",
        "import warnings\n",
        "warnings.simplefilter(\"ignore\")\n",
        "from tensorflow.keras.models import Sequential\n",
        "from keras import regularizers\n",
        "from keras.callbacks import ModelCheckpoint,EarlyStopping\n",
        "from tensorflow.keras.optimizers import Adam,RMSprop,SGD,Adamax\n",
        "from keras.utils.vis_utils import plot_model\n",
        "from keras.layers import Conv2D, MaxPool2D, Flatten,Dense,Dropout,BatchNormalization,MaxPooling2D,Activation,Input,GlobalMaxPooling2D\n",
        "from keras.models import Model\n",
        "from sklearn.metrics import accuracy_score\n",
        "from keras.regularizers import l1, l2\n",
        "from sklearn.metrics import confusion_matrix\n",
        "from sklearn.metrics import classification_report"
      ]
    },
    {
      "cell_type": "code",
      "execution_count": 7,
      "metadata": {
        "colab": {
          "base_uri": "https://localhost:8080/",
          "height": 423
        },
        "id": "gxEex4sIR-vR",
        "outputId": "8fc63d50-00b2-4900-b86d-81d08a840edb"
      },
      "outputs": [
        {
          "output_type": "execute_result",
          "data": {
            "text/plain": [
              "       emotion                                             pixels        Usage\n",
              "0            0  70 80 82 72 58 58 60 63 54 58 60 48 89 115 121...     Training\n",
              "1            0  151 150 147 155 148 133 111 140 170 174 182 15...     Training\n",
              "2            2  231 212 156 164 174 138 161 173 182 200 106 38...     Training\n",
              "3            4  24 32 36 30 32 23 19 20 30 41 21 22 32 34 21 1...     Training\n",
              "4            6  4 0 0 0 0 0 0 0 0 0 0 0 3 15 23 28 48 50 58 84...     Training\n",
              "...        ...                                                ...          ...\n",
              "35882        6  50 36 17 22 23 29 33 39 34 37 37 37 39 43 48 5...  PrivateTest\n",
              "35883        3  178 174 172 173 181 188 191 194 196 199 200 20...  PrivateTest\n",
              "35884        0  17 17 16 23 28 22 19 17 25 26 20 24 31 19 27 9...  PrivateTest\n",
              "35885        3  30 28 28 29 31 30 42 68 79 81 77 67 67 71 63 6...  PrivateTest\n",
              "35886        2  19 13 14 12 13 16 21 33 50 57 71 84 97 108 122...  PrivateTest\n",
              "\n",
              "[35887 rows x 3 columns]"
            ],
            "text/html": [
              "\n",
              "  <div id=\"df-151c2525-27cf-4955-ad31-f9dc2ecee9af\">\n",
              "    <div class=\"colab-df-container\">\n",
              "      <div>\n",
              "<style scoped>\n",
              "    .dataframe tbody tr th:only-of-type {\n",
              "        vertical-align: middle;\n",
              "    }\n",
              "\n",
              "    .dataframe tbody tr th {\n",
              "        vertical-align: top;\n",
              "    }\n",
              "\n",
              "    .dataframe thead th {\n",
              "        text-align: right;\n",
              "    }\n",
              "</style>\n",
              "<table border=\"1\" class=\"dataframe\">\n",
              "  <thead>\n",
              "    <tr style=\"text-align: right;\">\n",
              "      <th></th>\n",
              "      <th>emotion</th>\n",
              "      <th>pixels</th>\n",
              "      <th>Usage</th>\n",
              "    </tr>\n",
              "  </thead>\n",
              "  <tbody>\n",
              "    <tr>\n",
              "      <th>0</th>\n",
              "      <td>0</td>\n",
              "      <td>70 80 82 72 58 58 60 63 54 58 60 48 89 115 121...</td>\n",
              "      <td>Training</td>\n",
              "    </tr>\n",
              "    <tr>\n",
              "      <th>1</th>\n",
              "      <td>0</td>\n",
              "      <td>151 150 147 155 148 133 111 140 170 174 182 15...</td>\n",
              "      <td>Training</td>\n",
              "    </tr>\n",
              "    <tr>\n",
              "      <th>2</th>\n",
              "      <td>2</td>\n",
              "      <td>231 212 156 164 174 138 161 173 182 200 106 38...</td>\n",
              "      <td>Training</td>\n",
              "    </tr>\n",
              "    <tr>\n",
              "      <th>3</th>\n",
              "      <td>4</td>\n",
              "      <td>24 32 36 30 32 23 19 20 30 41 21 22 32 34 21 1...</td>\n",
              "      <td>Training</td>\n",
              "    </tr>\n",
              "    <tr>\n",
              "      <th>4</th>\n",
              "      <td>6</td>\n",
              "      <td>4 0 0 0 0 0 0 0 0 0 0 0 3 15 23 28 48 50 58 84...</td>\n",
              "      <td>Training</td>\n",
              "    </tr>\n",
              "    <tr>\n",
              "      <th>...</th>\n",
              "      <td>...</td>\n",
              "      <td>...</td>\n",
              "      <td>...</td>\n",
              "    </tr>\n",
              "    <tr>\n",
              "      <th>35882</th>\n",
              "      <td>6</td>\n",
              "      <td>50 36 17 22 23 29 33 39 34 37 37 37 39 43 48 5...</td>\n",
              "      <td>PrivateTest</td>\n",
              "    </tr>\n",
              "    <tr>\n",
              "      <th>35883</th>\n",
              "      <td>3</td>\n",
              "      <td>178 174 172 173 181 188 191 194 196 199 200 20...</td>\n",
              "      <td>PrivateTest</td>\n",
              "    </tr>\n",
              "    <tr>\n",
              "      <th>35884</th>\n",
              "      <td>0</td>\n",
              "      <td>17 17 16 23 28 22 19 17 25 26 20 24 31 19 27 9...</td>\n",
              "      <td>PrivateTest</td>\n",
              "    </tr>\n",
              "    <tr>\n",
              "      <th>35885</th>\n",
              "      <td>3</td>\n",
              "      <td>30 28 28 29 31 30 42 68 79 81 77 67 67 71 63 6...</td>\n",
              "      <td>PrivateTest</td>\n",
              "    </tr>\n",
              "    <tr>\n",
              "      <th>35886</th>\n",
              "      <td>2</td>\n",
              "      <td>19 13 14 12 13 16 21 33 50 57 71 84 97 108 122...</td>\n",
              "      <td>PrivateTest</td>\n",
              "    </tr>\n",
              "  </tbody>\n",
              "</table>\n",
              "<p>35887 rows × 3 columns</p>\n",
              "</div>\n",
              "      <button class=\"colab-df-convert\" onclick=\"convertToInteractive('df-151c2525-27cf-4955-ad31-f9dc2ecee9af')\"\n",
              "              title=\"Convert this dataframe to an interactive table.\"\n",
              "              style=\"display:none;\">\n",
              "        \n",
              "  <svg xmlns=\"http://www.w3.org/2000/svg\" height=\"24px\"viewBox=\"0 0 24 24\"\n",
              "       width=\"24px\">\n",
              "    <path d=\"M0 0h24v24H0V0z\" fill=\"none\"/>\n",
              "    <path d=\"M18.56 5.44l.94 2.06.94-2.06 2.06-.94-2.06-.94-.94-2.06-.94 2.06-2.06.94zm-11 1L8.5 8.5l.94-2.06 2.06-.94-2.06-.94L8.5 2.5l-.94 2.06-2.06.94zm10 10l.94 2.06.94-2.06 2.06-.94-2.06-.94-.94-2.06-.94 2.06-2.06.94z\"/><path d=\"M17.41 7.96l-1.37-1.37c-.4-.4-.92-.59-1.43-.59-.52 0-1.04.2-1.43.59L10.3 9.45l-7.72 7.72c-.78.78-.78 2.05 0 2.83L4 21.41c.39.39.9.59 1.41.59.51 0 1.02-.2 1.41-.59l7.78-7.78 2.81-2.81c.8-.78.8-2.07 0-2.86zM5.41 20L4 18.59l7.72-7.72 1.47 1.35L5.41 20z\"/>\n",
              "  </svg>\n",
              "      </button>\n",
              "      \n",
              "  <style>\n",
              "    .colab-df-container {\n",
              "      display:flex;\n",
              "      flex-wrap:wrap;\n",
              "      gap: 12px;\n",
              "    }\n",
              "\n",
              "    .colab-df-convert {\n",
              "      background-color: #E8F0FE;\n",
              "      border: none;\n",
              "      border-radius: 50%;\n",
              "      cursor: pointer;\n",
              "      display: none;\n",
              "      fill: #1967D2;\n",
              "      height: 32px;\n",
              "      padding: 0 0 0 0;\n",
              "      width: 32px;\n",
              "    }\n",
              "\n",
              "    .colab-df-convert:hover {\n",
              "      background-color: #E2EBFA;\n",
              "      box-shadow: 0px 1px 2px rgba(60, 64, 67, 0.3), 0px 1px 3px 1px rgba(60, 64, 67, 0.15);\n",
              "      fill: #174EA6;\n",
              "    }\n",
              "\n",
              "    [theme=dark] .colab-df-convert {\n",
              "      background-color: #3B4455;\n",
              "      fill: #D2E3FC;\n",
              "    }\n",
              "\n",
              "    [theme=dark] .colab-df-convert:hover {\n",
              "      background-color: #434B5C;\n",
              "      box-shadow: 0px 1px 3px 1px rgba(0, 0, 0, 0.15);\n",
              "      filter: drop-shadow(0px 1px 2px rgba(0, 0, 0, 0.3));\n",
              "      fill: #FFFFFF;\n",
              "    }\n",
              "  </style>\n",
              "\n",
              "      <script>\n",
              "        const buttonEl =\n",
              "          document.querySelector('#df-151c2525-27cf-4955-ad31-f9dc2ecee9af button.colab-df-convert');\n",
              "        buttonEl.style.display =\n",
              "          google.colab.kernel.accessAllowed ? 'block' : 'none';\n",
              "\n",
              "        async function convertToInteractive(key) {\n",
              "          const element = document.querySelector('#df-151c2525-27cf-4955-ad31-f9dc2ecee9af');\n",
              "          const dataTable =\n",
              "            await google.colab.kernel.invokeFunction('convertToInteractive',\n",
              "                                                     [key], {});\n",
              "          if (!dataTable) return;\n",
              "\n",
              "          const docLinkHtml = 'Like what you see? Visit the ' +\n",
              "            '<a target=\"_blank\" href=https://colab.research.google.com/notebooks/data_table.ipynb>data table notebook</a>'\n",
              "            + ' to learn more about interactive tables.';\n",
              "          element.innerHTML = '';\n",
              "          dataTable['output_type'] = 'display_data';\n",
              "          await google.colab.output.renderOutput(dataTable, element);\n",
              "          const docLink = document.createElement('div');\n",
              "          docLink.innerHTML = docLinkHtml;\n",
              "          element.appendChild(docLink);\n",
              "        }\n",
              "      </script>\n",
              "    </div>\n",
              "  </div>\n",
              "  "
            ]
          },
          "metadata": {},
          "execution_count": 7
        }
      ],
      "source": [
        "data=pd.read_csv('fer2013.csv')\n",
        "data"
      ]
    },
    {
      "cell_type": "code",
      "source": [
        "data.info()"
      ],
      "metadata": {
        "colab": {
          "base_uri": "https://localhost:8080/"
        },
        "id": "DbWG6jX_aTJy",
        "outputId": "28d6595d-9a67-43da-90e1-c7b1d38d9cd0"
      },
      "execution_count": 8,
      "outputs": [
        {
          "output_type": "stream",
          "name": "stdout",
          "text": [
            "<class 'pandas.core.frame.DataFrame'>\n",
            "RangeIndex: 35887 entries, 0 to 35886\n",
            "Data columns (total 3 columns):\n",
            " #   Column   Non-Null Count  Dtype \n",
            "---  ------   --------------  ----- \n",
            " 0   emotion  35887 non-null  int64 \n",
            " 1   pixels   35887 non-null  object\n",
            " 2   Usage    35887 non-null  object\n",
            "dtypes: int64(1), object(2)\n",
            "memory usage: 841.2+ KB\n"
          ]
        }
      ]
    },
    {
      "cell_type": "markdown",
      "source": [
        "### Missing Values Check"
      ],
      "metadata": {
        "id": "3DZ-QpkSOMB7"
      }
    },
    {
      "cell_type": "code",
      "execution_count": 9,
      "metadata": {
        "colab": {
          "base_uri": "https://localhost:8080/"
        },
        "id": "St1hiLGdUBs3",
        "outputId": "cb949e33-1740-4a58-8c2f-26ace43a5b4b"
      },
      "outputs": [
        {
          "output_type": "execute_result",
          "data": {
            "text/plain": [
              "emotion    0\n",
              "pixels     0\n",
              "Usage      0\n",
              "dtype: int64"
            ]
          },
          "metadata": {},
          "execution_count": 9
        }
      ],
      "source": [
        "data.isnull().sum()"
      ]
    },
    {
      "cell_type": "code",
      "execution_count": 10,
      "metadata": {
        "colab": {
          "base_uri": "https://localhost:8080/"
        },
        "id": "UcqmW7paUfAU",
        "outputId": "f714487a-1727-4bc3-b408-ea9e6b56850d"
      },
      "outputs": [
        {
          "output_type": "execute_result",
          "data": {
            "text/plain": [
              "(35887, 3)"
            ]
          },
          "metadata": {},
          "execution_count": 10
        }
      ],
      "source": [
        "data.shape"
      ]
    },
    {
      "cell_type": "markdown",
      "source": [
        "### Data Distribution"
      ],
      "metadata": {
        "id": "vV-HGtXdOEK9"
      }
    },
    {
      "cell_type": "code",
      "source": [
        "data['emotion'].value_counts()"
      ],
      "metadata": {
        "colab": {
          "base_uri": "https://localhost:8080/"
        },
        "id": "esdVpxYhazWu",
        "outputId": "070fe4ca-1188-43c8-8e3c-1800370f8b63"
      },
      "execution_count": 11,
      "outputs": [
        {
          "output_type": "execute_result",
          "data": {
            "text/plain": [
              "3    8989\n",
              "6    6198\n",
              "4    6077\n",
              "2    5121\n",
              "0    4953\n",
              "5    4002\n",
              "1     547\n",
              "Name: emotion, dtype: int64"
            ]
          },
          "metadata": {},
          "execution_count": 11
        }
      ]
    },
    {
      "cell_type": "code",
      "source": [
        "class_labels=['Angry','Disgust','Fear','Happy','Sad','Surprise','Neutral']"
      ],
      "metadata": {
        "id": "axVuGk7kKHFP"
      },
      "execution_count": 13,
      "outputs": []
    },
    {
      "cell_type": "code",
      "source": [
        "sns.countplot(data['emotion'])\n",
        "plt.show()"
      ],
      "metadata": {
        "colab": {
          "base_uri": "https://localhost:8080/",
          "height": 279
        },
        "id": "YttJcpmCb_9c",
        "outputId": "4f10f2bf-140c-4803-f9a1-5aec25eefa2e"
      },
      "execution_count": 19,
      "outputs": [
        {
          "output_type": "display_data",
          "data": {
            "text/plain": [
              "<Figure size 432x288 with 1 Axes>"
            ],
            "image/png": "[encoded data removed]"
          },
          "metadata": {
            "needs_background": "light"
          }
        }
      ]
    },
    {
      "cell_type": "code",
      "execution_count": 20,
      "metadata": {
        "colab": {
          "base_uri": "https://localhost:8080/"
        },
        "id": "lWhbibm3gdhz",
        "outputId": "1e86323f-55c9-4827-cc90-4a8c62afb609"
      },
      "outputs": [
        {
          "output_type": "execute_result",
          "data": {
            "text/plain": [
              "[4953, 547, 5121, 8989, 6077, 4002, 6198]"
            ]
          },
          "metadata": {},
          "execution_count": 20
        }
      ],
      "source": [
        "y = [list(data['emotion']).count(i) for i in np.unique(data['emotion'])]\n",
        "y"
      ]
    },
    {
      "cell_type": "code",
      "source": [
        "np.unique(data['emotion'])"
      ],
      "metadata": {
        "colab": {
          "base_uri": "https://localhost:8080/"
        },
        "id": "bVMnvl0ESrLw",
        "outputId": "4a221b6f-d24c-4465-ed0a-544294dfc096"
      },
      "execution_count": 21,
      "outputs": [
        {
          "output_type": "execute_result",
          "data": {
            "text/plain": [
              "array([0, 1, 2, 3, 4, 5, 6])"
            ]
          },
          "metadata": {},
          "execution_count": 21
        }
      ]
    },
    {
      "cell_type": "code",
      "execution_count": 22,
      "metadata": {
        "colab": {
          "base_uri": "https://localhost:8080/",
          "height": 542
        },
        "id": "Bh60bykcgrGU",
        "outputId": "fe3dc6dc-f580-4a41-ad8e-26533b80a535"
      },
      "outputs": [
        {
          "output_type": "display_data",
          "data": {
            "text/html": [
              "<html>\n",
              "<head><meta charset=\"utf-8\" /></head>\n",
              "<body>\n",
              "    <div>            <script src=\"https://cdnjs.cloudflare.com/ajax/libs/mathjax/2.7.5/MathJax.js?config=TeX-AMS-MML_SVG\"></script><script type=\"text/javascript\">if (window.MathJax) {MathJax.Hub.Config({SVG: {font: \"STIX-Web\"}});}</script>                <script type=\"text/javascript\">window.PlotlyConfig = {MathJaxConfig: 'local'};</script>\n",
              "        <script src=\"https://cdn.plot.ly/plotly-2.8.3.min.js\"></script>                <div id=\"300f1032-d7f3-4d16-b493-2efc83a086bb\" class=\"plotly-graph-div\" style=\"height:525px; width:100%;\"></div>            <script type=\"text/javascript\">                                    window.PLOTLYENV=window.PLOTLYENV || {};                                    if (document.getElementById(\"300f1032-d7f3-4d16-b493-2efc83a086bb\")) {                    Plotly.newPlot(                        \"300f1032-d7f3-4d16-b493-2efc83a086bb\",                        [{\"alignmentgroup\":\"True\",\"hovertemplate\":\"x=%{x}<br>y=%{y}<br>color=%{marker.color}<extra></extra>\",\"legendgroup\":\"\",\"marker\":{\"color\":[0,1,2,3,4,5,6],\"coloraxis\":\"coloraxis\",\"pattern\":{\"shape\":\"\"}},\"name\":\"\",\"offsetgroup\":\"\",\"orientation\":\"v\",\"showlegend\":false,\"textposition\":\"auto\",\"x\":[\"Angry\",\"Disgust\",\"Fear\",\"Happy\",\"Sad\",\"Surprise\",\"Neutral\"],\"xaxis\":\"x\",\"y\":[4953,547,5121,8989,6077,4002,6198],\"yaxis\":\"y\",\"type\":\"bar\"}],                        {\"template\":{\"data\":{\"bar\":[{\"error_x\":{\"color\":\"#2a3f5f\"},\"error_y\":{\"color\":\"#2a3f5f\"},\"marker\":{\"line\":{\"color\":\"#E5ECF6\",\"width\":0.5},\"pattern\":{\"fillmode\":\"overlay\",\"size\":10,\"solidity\":0.2}},\"type\":\"bar\"}],\"barpolar\":[{\"marker\":{\"line\":{\"color\":\"#E5ECF6\",\"width\":0.5},\"pattern\":{\"fillmode\":\"overlay\",\"size\":10,\"solidity\":0.2}},\"type\":\"barpolar\"}],\"carpet\":[{\"aaxis\":{\"endlinecolor\":\"#2a3f5f\",\"gridcolor\":\"white\",\"linecolor\":\"white\",\"minorgridcolor\":\"white\",\"startlinecolor\":\"#2a3f5f\"},\"baxis\":{\"endlinecolor\":\"#2a3f5f\",\"gridcolor\":\"white\",\"linecolor\":\"white\",\"minorgridcolor\":\"white\",\"startlinecolor\":\"#2a3f5f\"},\"type\":\"carpet\"}],\"choropleth\":[{\"colorbar\":{\"outlinewidth\":0,\"ticks\":\"\"},\"type\":\"choropleth\"}],\"contour\":[{\"colorbar\":{\"outlinewidth\":0,\"ticks\":\"\"},\"colorscale\":[[0.0,\"#0d0887\"],[0.1111111111111111,\"#46039f\"],[0.2222222222222222,\"#7201a8\"],[0.3333333333333333,\"#9c179e\"],[0.4444444444444444,\"#bd3786\"],[0.5555555555555556,\"#d8576b\"],[0.6666666666666666,\"#ed7953\"],[0.7777777777777778,\"#fb9f3a\"],[0.8888888888888888,\"#fdca26\"],[1.0,\"#f0f921\"]],\"type\":\"contour\"}],\"contourcarpet\":[{\"colorbar\":{\"outlinewidth\":0,\"ticks\":\"\"},\"type\":\"contourcarpet\"}],\"heatmap\":[{\"colorbar\":{\"outlinewidth\":0,\"ticks\":\"\"},\"colorscale\":[[0.0,\"#0d0887\"],[0.1111111111111111,\"#46039f\"],[0.2222222222222222,\"#7201a8\"],[0.3333333333333333,\"#9c179e\"],[0.4444444444444444,\"#bd3786\"],[0.5555555555555556,\"#d8576b\"],[0.6666666666666666,\"#ed7953\"],[0.7777777777777778,\"#fb9f3a\"],[0.8888888888888888,\"#fdca26\"],[1.0,\"#f0f921\"]],\"type\":\"heatmap\"}],\"heatmapgl\":[{\"colorbar\":{\"outlinewidth\":0,\"ticks\":\"\"},\"colorscale\":[[0.0,\"#0d0887\"],[0.1111111111111111,\"#46039f\"],[0.2222222222222222,\"#7201a8\"],[0.3333333333333333,\"#9c179e\"],[0.4444444444444444,\"#bd3786\"],[0.5555555555555556,\"#d8576b\"],[0.6666666666666666,\"#ed7953\"],[0.7777777777777778,\"#fb9f3a\"],[0.8888888888888888,\"#fdca26\"],[1.0,\"#f0f921\"]],\"type\":\"heatmapgl\"}],\"histogram\":[{\"marker\":{\"pattern\":{\"fillmode\":\"overlay\",\"size\":10,\"solidity\":0.2}},\"type\":\"histogram\"}],\"histogram2d\":[{\"colorbar\":{\"outlinewidth\":0,\"ticks\":\"\"},\"colorscale\":[[0.0,\"#0d0887\"],[0.1111111111111111,\"#46039f\"],[0.2222222222222222,\"#7201a8\"],[0.3333333333333333,\"#9c179e\"],[0.4444444444444444,\"#bd3786\"],[0.5555555555555556,\"#d8576b\"],[0.6666666666666666,\"#ed7953\"],[0.7777777777777778,\"#fb9f3a\"],[0.8888888888888888,\"#fdca26\"],[1.0,\"#f0f921\"]],\"type\":\"histogram2d\"}],\"histogram2dcontour\":[{\"colorbar\":{\"outlinewidth\":0,\"ticks\":\"\"},\"colorscale\":[[0.0,\"#0d0887\"],[0.1111111111111111,\"#46039f\"],[0.2222222222222222,\"#7201a8\"],[0.3333333333333333,\"#9c179e\"],[0.4444444444444444,\"#bd3786\"],[0.5555555555555556,\"#d8576b\"],[0.6666666666666666,\"#ed7953\"],[0.7777777777777778,\"#fb9f3a\"],[0.8888888888888888,\"#fdca26\"],[1.0,\"#f0f921\"]],\"type\":\"histogram2dcontour\"}],\"mesh3d\":[{\"colorbar\":{\"outlinewidth\":0,\"ticks\":\"\"},\"type\":\"mesh3d\"}],\"parcoords\":[{\"line\":{\"colorbar\":{\"outlinewidth\":0,\"ticks\":\"\"}},\"type\":\"parcoords\"}],\"pie\":[{\"automargin\":true,\"type\":\"pie\"}],\"scatter\":[{\"marker\":{\"colorbar\":{\"outlinewidth\":0,\"ticks\":\"\"}},\"type\":\"scatter\"}],\"scatter3d\":[{\"line\":{\"colorbar\":{\"outlinewidth\":0,\"ticks\":\"\"}},\"marker\":{\"colorbar\":{\"outlinewidth\":0,\"ticks\":\"\"}},\"type\":\"scatter3d\"}],\"scattercarpet\":[{\"marker\":{\"colorbar\":{\"outlinewidth\":0,\"ticks\":\"\"}},\"type\":\"scattercarpet\"}],\"scattergeo\":[{\"marker\":{\"colorbar\":{\"outlinewidth\":0,\"ticks\":\"\"}},\"type\":\"scattergeo\"}],\"scattergl\":[{\"marker\":{\"colorbar\":{\"outlinewidth\":0,\"ticks\":\"\"}},\"type\":\"scattergl\"}],\"scattermapbox\":[{\"marker\":{\"colorbar\":{\"outlinewidth\":0,\"ticks\":\"\"}},\"type\":\"scattermapbox\"}],\"scatterpolar\":[{\"marker\":{\"colorbar\":{\"outlinewidth\":0,\"ticks\":\"\"}},\"type\":\"scatterpolar\"}],\"scatterpolargl\":[{\"marker\":{\"colorbar\":{\"outlinewidth\":0,\"ticks\":\"\"}},\"type\":\"scatterpolargl\"}],\"scatterternary\":[{\"marker\":{\"colorbar\":{\"outlinewidth\":0,\"ticks\":\"\"}},\"type\":\"scatterternary\"}],\"surface\":[{\"colorbar\":{\"outlinewidth\":0,\"ticks\":\"\"},\"colorscale\":[[0.0,\"#0d0887\"],[0.1111111111111111,\"#46039f\"],[0.2222222222222222,\"#7201a8\"],[0.3333333333333333,\"#9c179e\"],[0.4444444444444444,\"#bd3786\"],[0.5555555555555556,\"#d8576b\"],[0.6666666666666666,\"#ed7953\"],[0.7777777777777778,\"#fb9f3a\"],[0.8888888888888888,\"#fdca26\"],[1.0,\"#f0f921\"]],\"type\":\"surface\"}],\"table\":[{\"cells\":{\"fill\":{\"color\":\"#EBF0F8\"},\"line\":{\"color\":\"white\"}},\"header\":{\"fill\":{\"color\":\"#C8D4E3\"},\"line\":{\"color\":\"white\"}},\"type\":\"table\"}]},\"layout\":{\"annotationdefaults\":{\"arrowcolor\":\"#2a3f5f\",\"arrowhead\":0,\"arrowwidth\":1},\"autotypenumbers\":\"strict\",\"coloraxis\":{\"colorbar\":{\"outlinewidth\":0,\"ticks\":\"\"}},\"colorscale\":{\"diverging\":[[0,\"#8e0152\"],[0.1,\"#c51b7d\"],[0.2,\"#de77ae\"],[0.3,\"#f1b6da\"],[0.4,\"#fde0ef\"],[0.5,\"#f7f7f7\"],[0.6,\"#e6f5d0\"],[0.7,\"#b8e186\"],[0.8,\"#7fbc41\"],[0.9,\"#4d9221\"],[1,\"#276419\"]],\"sequential\":[[0.0,\"#0d0887\"],[0.1111111111111111,\"#46039f\"],[0.2222222222222222,\"#7201a8\"],[0.3333333333333333,\"#9c179e\"],[0.4444444444444444,\"#bd3786\"],[0.5555555555555556,\"#d8576b\"],[0.6666666666666666,\"#ed7953\"],[0.7777777777777778,\"#fb9f3a\"],[0.8888888888888888,\"#fdca26\"],[1.0,\"#f0f921\"]],\"sequentialminus\":[[0.0,\"#0d0887\"],[0.1111111111111111,\"#46039f\"],[0.2222222222222222,\"#7201a8\"],[0.3333333333333333,\"#9c179e\"],[0.4444444444444444,\"#bd3786\"],[0.5555555555555556,\"#d8576b\"],[0.6666666666666666,\"#ed7953\"],[0.7777777777777778,\"#fb9f3a\"],[0.8888888888888888,\"#fdca26\"],[1.0,\"#f0f921\"]]},\"colorway\":[\"#636efa\",\"#EF553B\",\"#00cc96\",\"#ab63fa\",\"#FFA15A\",\"#19d3f3\",\"#FF6692\",\"#B6E880\",\"#FF97FF\",\"#FECB52\"],\"font\":{\"color\":\"#2a3f5f\"},\"geo\":{\"bgcolor\":\"white\",\"lakecolor\":\"white\",\"landcolor\":\"#E5ECF6\",\"showlakes\":true,\"showland\":true,\"subunitcolor\":\"white\"},\"hoverlabel\":{\"align\":\"left\"},\"hovermode\":\"closest\",\"mapbox\":{\"style\":\"light\"},\"paper_bgcolor\":\"white\",\"plot_bgcolor\":\"#E5ECF6\",\"polar\":{\"angularaxis\":{\"gridcolor\":\"white\",\"linecolor\":\"white\",\"ticks\":\"\"},\"bgcolor\":\"#E5ECF6\",\"radialaxis\":{\"gridcolor\":\"white\",\"linecolor\":\"white\",\"ticks\":\"\"}},\"scene\":{\"xaxis\":{\"backgroundcolor\":\"#E5ECF6\",\"gridcolor\":\"white\",\"gridwidth\":2,\"linecolor\":\"white\",\"showbackground\":true,\"ticks\":\"\",\"zerolinecolor\":\"white\"},\"yaxis\":{\"backgroundcolor\":\"#E5ECF6\",\"gridcolor\":\"white\",\"gridwidth\":2,\"linecolor\":\"white\",\"showbackground\":true,\"ticks\":\"\",\"zerolinecolor\":\"white\"},\"zaxis\":{\"backgroundcolor\":\"#E5ECF6\",\"gridcolor\":\"white\",\"gridwidth\":2,\"linecolor\":\"white\",\"showbackground\":true,\"ticks\":\"\",\"zerolinecolor\":\"white\"}},\"shapedefaults\":{\"line\":{\"color\":\"#2a3f5f\"}},\"ternary\":{\"aaxis\":{\"gridcolor\":\"white\",\"linecolor\":\"white\",\"ticks\":\"\"},\"baxis\":{\"gridcolor\":\"white\",\"linecolor\":\"white\",\"ticks\":\"\"},\"bgcolor\":\"#E5ECF6\",\"caxis\":{\"gridcolor\":\"white\",\"linecolor\":\"white\",\"ticks\":\"\"}},\"title\":{\"x\":0.05},\"xaxis\":{\"automargin\":true,\"gridcolor\":\"white\",\"linecolor\":\"white\",\"ticks\":\"\",\"title\":{\"standoff\":15},\"zerolinecolor\":\"white\",\"zerolinewidth\":2},\"yaxis\":{\"automargin\":true,\"gridcolor\":\"white\",\"linecolor\":\"white\",\"ticks\":\"\",\"title\":{\"standoff\":15},\"zerolinecolor\":\"white\",\"zerolinewidth\":2}}},\"xaxis\":{\"anchor\":\"y\",\"domain\":[0.0,1.0],\"title\":{\"text\":\"Emotions\"}},\"yaxis\":{\"anchor\":\"x\",\"domain\":[0.0,1.0],\"title\":{\"text\":\"Number of Images\"}},\"coloraxis\":{\"colorbar\":{\"title\":{\"text\":\"color\"}},\"colorscale\":[[0.0,\"rgb(211, 242, 163)\"],[0.16666666666666666,\"rgb(151, 225, 150)\"],[0.3333333333333333,\"rgb(108, 192, 139)\"],[0.5,\"rgb(76, 155, 130)\"],[0.6666666666666666,\"rgb(33, 122, 121)\"],[0.8333333333333334,\"rgb(16, 89, 101)\"],[1.0,\"rgb(7, 64, 80)\"]]},\"legend\":{\"tracegroupgap\":0},\"margin\":{\"t\":60},\"barmode\":\"relative\",\"title\":{\"text\":\"Train Data Distribution \",\"y\":0.95,\"x\":0.5,\"xanchor\":\"center\",\"yanchor\":\"top\"},\"showlegend\":true},                        {\"responsive\": true}                    ).then(function(){\n",
              "                            \n",
              "var gd = document.getElementById('300f1032-d7f3-4d16-b493-2efc83a086bb');\n",
              "var x = new MutationObserver(function (mutations, observer) {{\n",
              "        var display = window.getComputedStyle(gd).display;\n",
              "        if (!display || display === 'none') {{\n",
              "            console.log([gd, 'removed!']);\n",
              "            Plotly.purge(gd);\n",
              "            observer.disconnect();\n",
              "        }}\n",
              "}});\n",
              "\n",
              "// Listen for the removal of the full notebook cells\n",
              "var notebookContainer = gd.closest('#notebook-container');\n",
              "if (notebookContainer) {{\n",
              "    x.observe(notebookContainer, {childList: true});\n",
              "}}\n",
              "\n",
              "// Listen for the clearing of the current output cell\n",
              "var outputEl = gd.closest('.output');\n",
              "if (outputEl) {{\n",
              "    x.observe(outputEl, {childList: true});\n",
              "}}\n",
              "\n",
              "                        })                };                            </script>        </div>\n",
              "</body>\n",
              "</html>"
            ]
          },
          "metadata": {}
        }
      ],
      "source": [
        "fig = px.bar(x = class_labels,\n",
        "             y = [list(data['emotion']).count(i) for i in np.unique(data['emotion'])] , \n",
        "             color = np.unique(data['emotion']) ,\n",
        "             color_continuous_scale=\"Emrld\") \n",
        "fig.update_xaxes(title=\"Emotions\")\n",
        "fig.update_yaxes(title = \"Number of Images\")\n",
        "fig.update_layout(showlegend = True,\n",
        "    title = {\n",
        "        'text': 'Train Data Distribution ',\n",
        "        'y':0.95,\n",
        "        'x':0.5,\n",
        "        'xanchor': 'center',\n",
        "        'yanchor': 'top'})\n",
        "fig.show()"
      ]
    },
    {
      "cell_type": "code",
      "execution_count": 23,
      "metadata": {
        "colab": {
          "base_uri": "https://localhost:8080/"
        },
        "id": "YDvDHMQYhMiz",
        "outputId": "d270a7d9-b833-47bf-ccde-87aa53a54705"
      },
      "outputs": [
        {
          "output_type": "execute_result",
          "data": {
            "text/plain": [
              "array([[1., 0., 0., ..., 0., 0., 0.],\n",
              "       [1., 0., 0., ..., 0., 0., 0.],\n",
              "       [0., 0., 1., ..., 0., 0., 0.],\n",
              "       ...,\n",
              "       [1., 0., 0., ..., 0., 0., 0.],\n",
              "       [0., 0., 0., ..., 0., 0., 0.],\n",
              "       [0., 0., 1., ..., 0., 0., 0.]], dtype=float32)"
            ]
          },
          "metadata": {},
          "execution_count": 23
        }
      ],
      "source": [
        "labels = to_categorical(data[['emotion']], num_classes=7)\n",
        "labels"
      ]
    },
    {
      "cell_type": "code",
      "execution_count": 24,
      "metadata": {
        "colab": {
          "base_uri": "https://localhost:8080/"
        },
        "id": "sYEiSBT3jEYj",
        "outputId": "b770d889-2c85-4868-cb9d-06519d16e788"
      },
      "outputs": [
        {
          "output_type": "execute_result",
          "data": {
            "text/plain": [
              "array([[ 70,  80,  82, ..., 106, 109,  82],\n",
              "       [151, 150, 147, ..., 193, 183, 184],\n",
              "       [231, 212, 156, ...,  88, 110, 152],\n",
              "       ...,\n",
              "       [ 17,  17,  16, ..., 154, 133, 113],\n",
              "       [ 30,  28,  28, ...,  35,  30,  28],\n",
              "       [ 19,  13,  14, ..., 189, 199, 201]], dtype=uint8)"
            ]
          },
          "metadata": {},
          "execution_count": 24
        }
      ],
      "source": [
        "train_pixels = data[\"pixels\"].astype(str).str.split(\" \").tolist()\n",
        "train_pixels = np.uint8(train_pixels)\n",
        "train_pixels"
      ]
    },
    {
      "cell_type": "code",
      "source": [
        "train_pixels.shape"
      ],
      "metadata": {
        "colab": {
          "base_uri": "https://localhost:8080/"
        },
        "id": "mxfV2p3OOh5e",
        "outputId": "52ed470d-235b-4af6-a7d2-1f6c708a2b06"
      },
      "execution_count": 26,
      "outputs": [
        {
          "output_type": "execute_result",
          "data": {
            "text/plain": [
              "(35887, 2304)"
            ]
          },
          "metadata": {},
          "execution_count": 26
        }
      ]
    },
    {
      "cell_type": "code",
      "source": [
        "train_pixels=train_pixels/255\n",
        "train_pixels[:5]"
      ],
      "metadata": {
        "colab": {
          "base_uri": "https://localhost:8080/"
        },
        "id": "uzzm5Xgw2jB7",
        "outputId": "341c5e39-bb60-4119-a6a3-501ce450b7a5"
      },
      "execution_count": 27,
      "outputs": [
        {
          "output_type": "execute_result",
          "data": {
            "text/plain": [
              "array([[0.2745098 , 0.31372549, 0.32156863, ..., 0.41568627, 0.42745098,\n",
              "        0.32156863],\n",
              "       [0.59215686, 0.58823529, 0.57647059, ..., 0.75686275, 0.71764706,\n",
              "        0.72156863],\n",
              "       [0.90588235, 0.83137255, 0.61176471, ..., 0.34509804, 0.43137255,\n",
              "        0.59607843],\n",
              "       [0.09411765, 0.1254902 , 0.14117647, ..., 0.55686275, 0.56078431,\n",
              "        0.55686275],\n",
              "       [0.01568627, 0.        , 0.        , ..., 0.11764706, 0.11372549,\n",
              "        0.11764706]])"
            ]
          },
          "metadata": {},
          "execution_count": 27
        }
      ]
    },
    {
      "cell_type": "code",
      "source": [
        "'''train_pixels3 = train_pixels.reshape((35887*2304,1))\n",
        "scaler = StandardScaler()\n",
        "train_pixels3 = scaler.fit_transform(train_pixels3)\n",
        "train_pixels3\n",
        "train_pixels3 = train_pixels3.reshape((35887, 48, 48,1))\n",
        "train_pixels3[:3]'''"
      ],
      "metadata": {
        "colab": {
          "base_uri": "https://localhost:8080/",
          "height": 71
        },
        "id": "z33lwP0l4-Us",
        "outputId": "0d01d7d6-b9f5-4490-dc9d-544ca0284df8"
      },
      "execution_count": 19,
      "outputs": [
        {
          "output_type": "execute_result",
          "data": {
            "text/plain": [
              "'train_pixels3 = train_pixels.reshape((35887*2304,1))\\nscaler = StandardScaler()\\ntrain_pixels3 = scaler.fit_transform(train_pixels3)\\ntrain_pixels3\\ntrain_pixels3 = train_pixels3.reshape((35887, 48, 48,1))\\ntrain_pixels3[:3]'"
            ],
            "application/vnd.google.colaboratory.intrinsic+json": {
              "type": "string"
            }
          },
          "metadata": {},
          "execution_count": 19
        }
      ]
    },
    {
      "cell_type": "code",
      "source": [
        "import math\n",
        "math.sqrt(len(data.pixels[0].split(' ')))"
      ],
      "metadata": {
        "colab": {
          "base_uri": "https://localhost:8080/"
        },
        "id": "6E-o2HtJc_He",
        "outputId": "dc28fcbd-3fe9-44b9-ea59-b8d07ca1b6d3"
      },
      "execution_count": 28,
      "outputs": [
        {
          "output_type": "execute_result",
          "data": {
            "text/plain": [
              "48.0"
            ]
          },
          "metadata": {},
          "execution_count": 28
        }
      ]
    },
    {
      "cell_type": "code",
      "source": [
        "train_pixels = train_pixels.reshape((35887, 48, 48,1))"
      ],
      "metadata": {
        "id": "QKQ_ApAbC7R8"
      },
      "execution_count": 29,
      "outputs": []
    },
    {
      "cell_type": "code",
      "source": [
        "X_train, X_test, y_train, y_test = train_test_split(train_pixels, labels, test_size=0.15, shuffle=True)"
      ],
      "metadata": {
        "id": "k5IogWFxD907"
      },
      "execution_count": 22,
      "outputs": []
    },
    {
      "cell_type": "code",
      "source": [
        "plt.figure(figsize=(15,23))\n",
        "label_dict = {0 : 'Angry', 1 : 'Disgust', 2 : 'Fear', 3 : 'Happiness', 4 : 'Sad', 5 : 'Surprise', 6 : 'Neutral'}\n",
        "i = 1\n",
        "for i in range (7):\n",
        "    img = np.squeeze(X_train[i])\n",
        "    plt.subplot(1,7,i+1)\n",
        "    plt.imshow(img)\n",
        "    index = np.argmax(y_train[i])\n",
        "    plt.title(label_dict[index])\n",
        "    plt.axis('off')\n",
        "    i += 1\n",
        "plt.show()"
      ],
      "metadata": {
        "colab": {
          "base_uri": "https://localhost:8080/",
          "height": 149
        },
        "id": "rzWxT0f9D957",
        "outputId": "4a3b56d5-db3d-4e20-bf71-6412f93906ab"
      },
      "execution_count": 30,
      "outputs": [
        {
          "output_type": "display_data",
          "data": {
            "text/plain": [
              "<Figure size 1080x1656 with 7 Axes>"
            ],
            "image/png": "[encoded data removed]"
          },
          "metadata": {
            "needs_background": "light"
          }
        }
      ]
    },
    {
      "cell_type": "code",
      "source": [
        "datagen = ImageDataGenerator(  width_shift_range = 0.1,\n",
        "                               height_shift_range = 0.1,\n",
        "                               horizontal_flip = True,\n",
        "                               zoom_range = 0.2,validation_split=0.2)\n",
        "valgen = ImageDataGenerator( ) "
      ],
      "metadata": {
        "id": "DSc34YedD9-6"
      },
      "execution_count": 40,
      "outputs": []
    },
    {
      "cell_type": "code",
      "source": [
        "datagen.fit(X_train)\n",
        "valgen.fit(X_test)"
      ],
      "metadata": {
        "id": "MmQ4uMnKD-Bg"
      },
      "execution_count": 41,
      "outputs": []
    },
    {
      "cell_type": "code",
      "source": [
        "train_generator = datagen.flow(X_train, y_train, batch_size=64)\n",
        "val_generator = valgen.flow(X_test, y_test, batch_size=64)"
      ],
      "metadata": {
        "id": "bxgdgiD3D-ES"
      },
      "execution_count": 42,
      "outputs": []
    },
    {
      "cell_type": "code",
      "source": [
        "def cnn_model():\n",
        "\n",
        "  model= tf.keras.models.Sequential()\n",
        "  model.add(Conv2D(32, kernel_size=(3, 3), padding='same', activation='relu', input_shape=(48, 48,1))) #32*3*3+32\n",
        "  model.add(Conv2D(64,(3,3), padding='same', activation='relu' )) #64*9*32+64\n",
        "  model.add(BatchNormalization()) #64*4\n",
        "  #Just like the parameters (eg. weights, bias) of any network layer, a Batch Norm layer also has parameters of its own:\n",
        "\n",
        "#Two learnable parameters called beta and gamma.\n",
        "#Two non-learnable parameters (Mean Moving Average and Variance Moving Average) are saved as part of the ‘state’ of the Batch Norm layer.\n",
        "\n",
        "  model.add(MaxPool2D(pool_size=(2, 2)))\n",
        "  model.add(Dropout(0.25))\n",
        "\n",
        "  model.add(Conv2D(128,(5,5), padding='same', activation='relu')) #128*5*5*64+128\n",
        "  model.add(BatchNormalization()) #128*4\n",
        "  model.add(MaxPool2D(pool_size=(2, 2))) \n",
        "  model.add(Dropout(0.25))\n",
        "      \n",
        "  model.add(Conv2D(512,(3,3), padding='same', activation='relu', kernel_regularizer=regularizers.l2(0.01))) #512*3*3*128+512\n",
        "  model.add(BatchNormalization())\n",
        "  model.add(MaxPool2D(pool_size=(2, 2)))\n",
        "  model.add(Dropout(0.25))\n",
        "\n",
        "  model.add(Conv2D(512,(3,3), padding='same', activation='relu', kernel_regularizer=regularizers.l2(0.01)))\n",
        "  model.add(BatchNormalization())\n",
        "  model.add(MaxPool2D(pool_size=(2, 2)))\n",
        "  model.add(Dropout(0.25))\n",
        "\n",
        "  model.add(Conv2D(512,(3,3), padding='same', activation='relu', kernel_regularizer=regularizers.l2(0.01)))\n",
        "  model.add(BatchNormalization())\n",
        "  model.add(MaxPool2D(pool_size=(2, 2)))\n",
        "  model.add(Dropout(0.25))\n",
        "\n",
        "  model.add(Flatten()) \n",
        "  model.add(Dense(256,activation = 'relu'))\n",
        "  model.add(BatchNormalization())\n",
        "  model.add(Dropout(0.25))\n",
        "      \n",
        "  model.add(Dense(512,activation = 'relu'))\n",
        "  model.add(BatchNormalization())\n",
        "  model.add(Dropout(0.25))\n",
        "\n",
        "  model.add(Dense(7, activation='softmax'))\n",
        "  model.compile(\n",
        "    optimizer = Adam(lr=0.0001), \n",
        "    loss='categorical_crossentropy', \n",
        "    metrics=['accuracy'])\n",
        "  return model\n",
        " "
      ],
      "metadata": {
        "id": "HJoTtey8D-G8"
      },
      "execution_count": 43,
      "outputs": []
    },
    {
      "cell_type": "code",
      "source": [
        "model=cnn_model()"
      ],
      "metadata": {
        "id": "6xMvFmJPJMRr"
      },
      "execution_count": 44,
      "outputs": []
    },
    {
      "cell_type": "code",
      "source": [
        "model.compile(\n",
        "    optimizer = Adam(lr=0.0001), \n",
        "    loss='categorical_crossentropy', \n",
        "    metrics=['accuracy'])\n"
      ],
      "metadata": {
        "id": "ucYUUuciILs4"
      },
      "execution_count": 45,
      "outputs": []
    },
    {
      "cell_type": "code",
      "source": [
        "model.summary()"
      ],
      "metadata": {
        "colab": {
          "base_uri": "https://localhost:8080/"
        },
        "id": "vw6DrTNcJnyG",
        "outputId": "21961bf2-ffeb-42a1-e7b8-1ff495a43e04"
      },
      "execution_count": 46,
      "outputs": [
        {
          "output_type": "stream",
          "name": "stdout",
          "text": [
            "Model: \"sequential\"\n",
            "_________________________________________________________________\n",
            " Layer (type)                Output Shape              Param #   \n",
            "=================================================================\n",
            " conv2d (Conv2D)             (None, 48, 48, 32)        320       \n",
            "                                                                 \n",
            " conv2d_1 (Conv2D)           (None, 48, 48, 64)        18496     \n",
            "                                                                 \n",
            " batch_normalization (BatchN  (None, 48, 48, 64)       256       \n",
            " ormalization)                                                   \n",
            "                                                                 \n",
            " max_pooling2d (MaxPooling2D  (None, 24, 24, 64)       0         \n",
            " )                                                               \n",
            "                                                                 \n",
            " dropout (Dropout)           (None, 24, 24, 64)        0         \n",
            "                                                                 \n",
            " conv2d_2 (Conv2D)           (None, 24, 24, 128)       204928    \n",
            "                                                                 \n",
            " batch_normalization_1 (Batc  (None, 24, 24, 128)      512       \n",
            " hNormalization)                                                 \n",
            "                                                                 \n",
            " max_pooling2d_1 (MaxPooling  (None, 12, 12, 128)      0         \n",
            " 2D)                                                             \n",
            "                                                                 \n",
            " dropout_1 (Dropout)         (None, 12, 12, 128)       0         \n",
            "                                                                 \n",
            " conv2d_3 (Conv2D)           (None, 12, 12, 512)       590336    \n",
            "                                                                 \n",
            " batch_normalization_2 (Batc  (None, 12, 12, 512)      2048      \n",
            " hNormalization)                                                 \n",
            "                                                                 \n",
            " max_pooling2d_2 (MaxPooling  (None, 6, 6, 512)        0         \n",
            " 2D)                                                             \n",
            "                                                                 \n",
            " dropout_2 (Dropout)         (None, 6, 6, 512)         0         \n",
            "                                                                 \n",
            " conv2d_4 (Conv2D)           (None, 6, 6, 512)         2359808   \n",
            "                                                                 \n",
            " batch_normalization_3 (Batc  (None, 6, 6, 512)        2048      \n",
            " hNormalization)                                                 \n",
            "                                                                 \n",
            " max_pooling2d_3 (MaxPooling  (None, 3, 3, 512)        0         \n",
            " 2D)                                                             \n",
            "                                                                 \n",
            " dropout_3 (Dropout)         (None, 3, 3, 512)         0         \n",
            "                                                                 \n",
            " conv2d_5 (Conv2D)           (None, 3, 3, 512)         2359808   \n",
            "                                                                 \n",
            " batch_normalization_4 (Batc  (None, 3, 3, 512)        2048      \n",
            " hNormalization)                                                 \n",
            "                                                                 \n",
            " max_pooling2d_4 (MaxPooling  (None, 1, 1, 512)        0         \n",
            " 2D)                                                             \n",
            "                                                                 \n",
            " dropout_4 (Dropout)         (None, 1, 1, 512)         0         \n",
            "                                                                 \n",
            " flatten (Flatten)           (None, 512)               0         \n",
            "                                                                 \n",
            " dense (Dense)               (None, 256)               131328    \n",
            "                                                                 \n",
            " batch_normalization_5 (Batc  (None, 256)              1024      \n",
            " hNormalization)                                                 \n",
            "                                                                 \n",
            " dropout_5 (Dropout)         (None, 256)               0         \n",
            "                                                                 \n",
            " dense_1 (Dense)             (None, 512)               131584    \n",
            "                                                                 \n",
            " batch_normalization_6 (Batc  (None, 512)              2048      \n",
            " hNormalization)                                                 \n",
            "                                                                 \n",
            " dropout_6 (Dropout)         (None, 512)               0         \n",
            "                                                                 \n",
            " dense_2 (Dense)             (None, 7)                 3591      \n",
            "                                                                 \n",
            "=================================================================\n",
            "Total params: 5,810,183\n",
            "Trainable params: 5,805,191\n",
            "Non-trainable params: 4,992\n",
            "_________________________________________________________________\n"
          ]
        }
      ]
    },
    {
      "cell_type": "code",
      "source": [
        "checkpointer = [EarlyStopping(monitor = 'val_accuracy', verbose = 1, \n",
        "                              restore_best_weights=True,mode=\"max\",patience = 5),\n",
        "                ModelCheckpoint('best_model.h5',monitor=\"val_accuracy\",verbose=1,\n",
        "                                save_best_only=True,mode=\"max\")]"
      ],
      "metadata": {
        "id": "-3hNNmvqJxyS"
      },
      "execution_count": 47,
      "outputs": []
    },
    {
      "cell_type": "code",
      "source": [
        "history = model.fit(train_generator,\n",
        "                    epochs=30,\n",
        "                    batch_size=64,   \n",
        "                    verbose=1,\n",
        "                    callbacks=[checkpointer],\n",
        "                    validation_data=val_generator)"
      ],
      "metadata": {
        "colab": {
          "base_uri": "https://localhost:8080/"
        },
        "id": "VWiUvkV6Jyu_",
        "outputId": "2cae66b8-745d-4144-e9a3-81cfa0220ff5"
      },
      "execution_count": 48,
      "outputs": [
        {
          "output_type": "stream",
          "name": "stdout",
          "text": [
            "Epoch 1/30\n",
            "477/477 [==============================] - ETA: 0s - loss: 14.0137 - accuracy: 0.1803\n",
            "Epoch 1: val_accuracy improved from -inf to 0.24944, saving model to best_model.h5\n",
            "477/477 [==============================] - 30s 43ms/step - loss: 14.0137 - accuracy: 0.1803 - val_loss: 12.8321 - val_accuracy: 0.2494\n",
            "Epoch 2/30\n",
            "477/477 [==============================] - ETA: 0s - loss: 11.9143 - accuracy: 0.2112\n",
            "Epoch 2: val_accuracy improved from 0.24944 to 0.25594, saving model to best_model.h5\n",
            "477/477 [==============================] - 19s 39ms/step - loss: 11.9143 - accuracy: 0.2112 - val_loss: 10.6535 - val_accuracy: 0.2559\n",
            "Epoch 3/30\n",
            "477/477 [==============================] - ETA: 0s - loss: 9.7841 - accuracy: 0.2220\n",
            "Epoch 3: val_accuracy improved from 0.25594 to 0.26653, saving model to best_model.h5\n",
            "477/477 [==============================] - 19s 40ms/step - loss: 9.7841 - accuracy: 0.2220 - val_loss: 8.5915 - val_accuracy: 0.2665\n",
            "Epoch 4/30\n",
            "476/477 [============================>.] - ETA: 0s - loss: 7.8035 - accuracy: 0.2412\n",
            "Epoch 4: val_accuracy improved from 0.26653 to 0.29030, saving model to best_model.h5\n",
            "477/477 [==============================] - 20s 41ms/step - loss: 7.8017 - accuracy: 0.2411 - val_loss: 6.7319 - val_accuracy: 0.2903\n",
            "Epoch 5/30\n",
            "477/477 [==============================] - ETA: 0s - loss: 6.1449 - accuracy: 0.2651\n",
            "Epoch 5: val_accuracy improved from 0.29030 to 0.31445, saving model to best_model.h5\n",
            "477/477 [==============================] - 22s 46ms/step - loss: 6.1449 - accuracy: 0.2651 - val_loss: 5.3177 - val_accuracy: 0.3145\n",
            "Epoch 6/30\n",
            "477/477 [==============================] - ETA: 0s - loss: 4.8425 - accuracy: 0.3042\n",
            "Epoch 6: val_accuracy improved from 0.31445 to 0.39134, saving model to best_model.h5\n",
            "477/477 [==============================] - 19s 40ms/step - loss: 4.8425 - accuracy: 0.3042 - val_loss: 4.1161 - val_accuracy: 0.3913\n",
            "Epoch 7/30\n",
            "476/477 [============================>.] - ETA: 0s - loss: 3.9037 - accuracy: 0.3415\n",
            "Epoch 7: val_accuracy improved from 0.39134 to 0.39153, saving model to best_model.h5\n",
            "477/477 [==============================] - 19s 40ms/step - loss: 3.9028 - accuracy: 0.3415 - val_loss: 3.4392 - val_accuracy: 0.3915\n",
            "Epoch 8/30\n",
            "477/477 [==============================] - ETA: 0s - loss: 3.2431 - accuracy: 0.3718\n",
            "Epoch 8: val_accuracy did not improve from 0.39153\n",
            "477/477 [==============================] - 19s 40ms/step - loss: 3.2431 - accuracy: 0.3718 - val_loss: 3.5052 - val_accuracy: 0.3410\n",
            "Epoch 9/30\n",
            "476/477 [============================>.] - ETA: 0s - loss: 2.7793 - accuracy: 0.4058\n",
            "Epoch 9: val_accuracy improved from 0.39153 to 0.45245, saving model to best_model.h5\n",
            "477/477 [==============================] - 19s 40ms/step - loss: 2.7789 - accuracy: 0.4059 - val_loss: 2.5557 - val_accuracy: 0.4525\n",
            "Epoch 10/30\n",
            "477/477 [==============================] - ETA: 0s - loss: 2.4526 - accuracy: 0.4351\n",
            "Epoch 10: val_accuracy improved from 0.45245 to 0.49851, saving model to best_model.h5\n",
            "477/477 [==============================] - 19s 40ms/step - loss: 2.4526 - accuracy: 0.4351 - val_loss: 2.1873 - val_accuracy: 0.4985\n",
            "Epoch 11/30\n",
            "477/477 [==============================] - ETA: 0s - loss: 2.2104 - accuracy: 0.4638\n",
            "Epoch 11: val_accuracy improved from 0.49851 to 0.54123, saving model to best_model.h5\n",
            "477/477 [==============================] - 19s 40ms/step - loss: 2.2104 - accuracy: 0.4638 - val_loss: 1.9570 - val_accuracy: 0.5412\n",
            "Epoch 12/30\n",
            "477/477 [==============================] - ETA: 0s - loss: 2.0591 - accuracy: 0.4905\n",
            "Epoch 12: val_accuracy did not improve from 0.54123\n",
            "477/477 [==============================] - 19s 40ms/step - loss: 2.0591 - accuracy: 0.4905 - val_loss: 1.9029 - val_accuracy: 0.5301\n",
            "Epoch 13/30\n",
            "477/477 [==============================] - ETA: 0s - loss: 1.9415 - accuracy: 0.5046\n",
            "Epoch 13: val_accuracy improved from 0.54123 to 0.55628, saving model to best_model.h5\n",
            "477/477 [==============================] - 19s 40ms/step - loss: 1.9415 - accuracy: 0.5046 - val_loss: 1.7862 - val_accuracy: 0.5563\n",
            "Epoch 14/30\n",
            "477/477 [==============================] - ETA: 0s - loss: 1.8400 - accuracy: 0.5209\n",
            "Epoch 14: val_accuracy did not improve from 0.55628\n",
            "477/477 [==============================] - 19s 40ms/step - loss: 1.8400 - accuracy: 0.5209 - val_loss: 1.7507 - val_accuracy: 0.5462\n",
            "Epoch 15/30\n",
            "477/477 [==============================] - ETA: 0s - loss: 1.7734 - accuracy: 0.5310\n",
            "Epoch 15: val_accuracy improved from 0.55628 to 0.55925, saving model to best_model.h5\n",
            "477/477 [==============================] - 19s 40ms/step - loss: 1.7734 - accuracy: 0.5310 - val_loss: 1.6896 - val_accuracy: 0.5592\n",
            "Epoch 16/30\n",
            "476/477 [============================>.] - ETA: 0s - loss: 1.7275 - accuracy: 0.5410\n",
            "Epoch 16: val_accuracy improved from 0.55925 to 0.58228, saving model to best_model.h5\n",
            "477/477 [==============================] - 19s 40ms/step - loss: 1.7275 - accuracy: 0.5409 - val_loss: 1.6400 - val_accuracy: 0.5823\n",
            "Epoch 17/30\n",
            "477/477 [==============================] - ETA: 0s - loss: 1.7053 - accuracy: 0.5491\n",
            "Epoch 17: val_accuracy did not improve from 0.58228\n",
            "477/477 [==============================] - 19s 40ms/step - loss: 1.7053 - accuracy: 0.5491 - val_loss: 1.6335 - val_accuracy: 0.5743\n",
            "Epoch 18/30\n",
            "476/477 [============================>.] - ETA: 0s - loss: 1.6707 - accuracy: 0.5537\n",
            "Epoch 18: val_accuracy did not improve from 0.58228\n",
            "477/477 [==============================] - 19s 40ms/step - loss: 1.6702 - accuracy: 0.5538 - val_loss: 1.6152 - val_accuracy: 0.5789\n",
            "Epoch 19/30\n",
            "476/477 [============================>.] - ETA: 0s - loss: 1.6487 - accuracy: 0.5631\n",
            "Epoch 19: val_accuracy improved from 0.58228 to 0.59807, saving model to best_model.h5\n",
            "477/477 [==============================] - 19s 40ms/step - loss: 1.6486 - accuracy: 0.5633 - val_loss: 1.5475 - val_accuracy: 0.5981\n",
            "Epoch 20/30\n",
            "477/477 [==============================] - ETA: 0s - loss: 1.6317 - accuracy: 0.5683\n",
            "Epoch 20: val_accuracy did not improve from 0.59807\n",
            "477/477 [==============================] - 21s 44ms/step - loss: 1.6317 - accuracy: 0.5683 - val_loss: 1.5574 - val_accuracy: 0.5877\n",
            "Epoch 21/30\n",
            "476/477 [============================>.] - ETA: 0s - loss: 1.6143 - accuracy: 0.5704\n",
            "Epoch 21: val_accuracy did not improve from 0.59807\n",
            "477/477 [==============================] - 19s 40ms/step - loss: 1.6142 - accuracy: 0.5705 - val_loss: 1.5370 - val_accuracy: 0.5975\n",
            "Epoch 22/30\n",
            "477/477 [==============================] - ETA: 0s - loss: 1.5966 - accuracy: 0.5805\n",
            "Epoch 22: val_accuracy improved from 0.59807 to 0.60141, saving model to best_model.h5\n",
            "477/477 [==============================] - 19s 40ms/step - loss: 1.5966 - accuracy: 0.5805 - val_loss: 1.5566 - val_accuracy: 0.6014\n",
            "Epoch 23/30\n",
            "476/477 [============================>.] - ETA: 0s - loss: 1.5927 - accuracy: 0.5795\n",
            "Epoch 23: val_accuracy did not improve from 0.60141\n",
            "477/477 [==============================] - 19s 39ms/step - loss: 1.5925 - accuracy: 0.5794 - val_loss: 1.5451 - val_accuracy: 0.5916\n",
            "Epoch 24/30\n",
            "477/477 [==============================] - ETA: 0s - loss: 1.5775 - accuracy: 0.5841\n",
            "Epoch 24: val_accuracy did not improve from 0.60141\n",
            "477/477 [==============================] - 19s 39ms/step - loss: 1.5775 - accuracy: 0.5841 - val_loss: 1.5312 - val_accuracy: 0.5997\n",
            "Epoch 25/30\n",
            "477/477 [==============================] - ETA: 0s - loss: 1.5795 - accuracy: 0.5860\n",
            "Epoch 25: val_accuracy improved from 0.60141 to 0.61126, saving model to best_model.h5\n",
            "477/477 [==============================] - 19s 40ms/step - loss: 1.5795 - accuracy: 0.5860 - val_loss: 1.5124 - val_accuracy: 0.6113\n",
            "Epoch 26/30\n",
            "477/477 [==============================] - ETA: 0s - loss: 1.5700 - accuracy: 0.5899\n",
            "Epoch 26: val_accuracy improved from 0.61126 to 0.61516, saving model to best_model.h5\n",
            "477/477 [==============================] - 19s 40ms/step - loss: 1.5700 - accuracy: 0.5899 - val_loss: 1.5032 - val_accuracy: 0.6152\n",
            "Epoch 27/30\n",
            "477/477 [==============================] - ETA: 0s - loss: 1.5566 - accuracy: 0.5957\n",
            "Epoch 27: val_accuracy did not improve from 0.61516\n",
            "477/477 [==============================] - 19s 39ms/step - loss: 1.5566 - accuracy: 0.5957 - val_loss: 1.5020 - val_accuracy: 0.6098\n",
            "Epoch 28/30\n",
            "477/477 [==============================] - ETA: 0s - loss: 1.5530 - accuracy: 0.5969\n",
            "Epoch 28: val_accuracy did not improve from 0.61516\n",
            "477/477 [==============================] - 19s 40ms/step - loss: 1.5530 - accuracy: 0.5969 - val_loss: 1.5175 - val_accuracy: 0.6072\n",
            "Epoch 29/30\n",
            "476/477 [============================>.] - ETA: 0s - loss: 1.5428 - accuracy: 0.5965\n",
            "Epoch 29: val_accuracy improved from 0.61516 to 0.62017, saving model to best_model.h5\n",
            "477/477 [==============================] - 19s 40ms/step - loss: 1.5433 - accuracy: 0.5962 - val_loss: 1.4763 - val_accuracy: 0.6202\n",
            "Epoch 30/30\n",
            "477/477 [==============================] - ETA: 0s - loss: 1.5333 - accuracy: 0.6035\n",
            "Epoch 30: val_accuracy did not improve from 0.62017\n",
            "477/477 [==============================] - 19s 40ms/step - loss: 1.5333 - accuracy: 0.6035 - val_loss: 1.5083 - val_accuracy: 0.5994\n"
          ]
        }
      ]
    },
    {
      "cell_type": "code",
      "source": [
        "plt.plot(history.history[\"loss\"],'r', label=\"Training Loss\")\n",
        "plt.plot(history.history[\"val_loss\"],'b', label=\"Validation Loss\")\n",
        "plt.legend()"
      ],
      "metadata": {
        "colab": {
          "base_uri": "https://localhost:8080/",
          "height": 283
        },
        "id": "JdUr-RfiJyxX",
        "outputId": "ffa97ede-d28c-4115-9338-0797c2991187"
      },
      "execution_count": 49,
      "outputs": [
        {
          "output_type": "execute_result",
          "data": {
            "text/plain": [
              "<matplotlib.legend.Legend at 0x7f5cbdf5aac0>"
            ]
          },
          "metadata": {},
          "execution_count": 49
        },
        {
          "output_type": "display_data",
          "data": {
            "text/plain": [
              "<Figure size 432x288 with 1 Axes>"
            ],
            "image/png": "[encoded data removed]"
          },
          "metadata": {
            "needs_background": "light"
          }
        }
      ]
    },
    {
      "cell_type": "code",
      "source": [
        "test_loss,test_acc=model.evaluate(X_test,y_test,verbose=3)\n",
        "test_loss,test_acc"
      ],
      "metadata": {
        "id": "ff0f1yS4D-Kh",
        "colab": {
          "base_uri": "https://localhost:8080/"
        },
        "outputId": "684b7929-4500-4ea0-e1fa-63ef543c290f"
      },
      "execution_count": 50,
      "outputs": [
        {
          "output_type": "execute_result",
          "data": {
            "text/plain": [
              "(1.5082744359970093, 0.5991827845573425)"
            ]
          },
          "metadata": {},
          "execution_count": 50
        }
      ]
    },
    {
      "cell_type": "code",
      "source": [
        "predictions=model.predict(X_test)"
      ],
      "metadata": {
        "id": "fTt0XyLMBNXI",
        "colab": {
          "base_uri": "https://localhost:8080/"
        },
        "outputId": "a4477345-6272-4580-922b-40d713ca18bd"
      },
      "execution_count": 51,
      "outputs": [
        {
          "output_type": "stream",
          "name": "stdout",
          "text": [
            "169/169 [==============================] - 1s 6ms/step\n"
          ]
        }
      ]
    },
    {
      "cell_type": "code",
      "source": [
        "print(confusion_matrix(np.argmax(y_test, axis = 1 ), np.argmax(model.predict(X_test),axis=1)))"
      ],
      "metadata": {
        "colab": {
          "base_uri": "https://localhost:8080/"
        },
        "id": "1GwTu2GceXnO",
        "outputId": "d5e34641-7a75-4b0c-efdf-aade7648c35f"
      },
      "execution_count": 52,
      "outputs": [
        {
          "output_type": "stream",
          "name": "stdout",
          "text": [
            "169/169 [==============================] - 1s 6ms/step\n",
            "[[ 369    6   18   66   77   11  226]\n",
            " [  26   12    2   13    7    2   16]\n",
            " [ 101    1  172   67  176   72  207]\n",
            " [  16    0   10 1199   13   24   74]\n",
            " [  58    3   27   93  358    6  359]\n",
            " [  21    0   43   36    5  407   52]\n",
            " [  19    0    5  120   71    9  709]]\n"
          ]
        }
      ]
    },
    {
      "cell_type": "code",
      "source": [
        "print(classification_report(np.argmax(y_test, axis = 1 ), np.argmax(model.predict(X_test),axis=1)))"
      ],
      "metadata": {
        "colab": {
          "base_uri": "https://localhost:8080/"
        },
        "id": "Bt4kg09LkTzw",
        "outputId": "9639f6aa-6746-42dd-f243-00564fc9af5b"
      },
      "execution_count": 53,
      "outputs": [
        {
          "output_type": "stream",
          "name": "stdout",
          "text": [
            "169/169 [==============================] - 1s 6ms/step\n",
            "              precision    recall  f1-score   support\n",
            "\n",
            "           0       0.60      0.48      0.53       773\n",
            "           1       0.55      0.15      0.24        78\n",
            "           2       0.62      0.22      0.32       796\n",
            "           3       0.75      0.90      0.82      1336\n",
            "           4       0.51      0.40      0.44       904\n",
            "           5       0.77      0.72      0.74       564\n",
            "           6       0.43      0.76      0.55       933\n",
            "\n",
            "    accuracy                           0.60      5384\n",
            "   macro avg       0.60      0.52      0.52      5384\n",
            "weighted avg       0.61      0.60      0.58      5384\n",
            "\n"
          ]
        }
      ]
    },
    {
      "cell_type": "markdown",
      "source": [
        "### VGG16"
      ],
      "metadata": {
        "id": "r-nNojeuBYzH"
      }
    },
    {
      "cell_type": "code",
      "source": [
        "a=np.zeros((35887,48,48,3))\n",
        "b=np.zeros((35887,48,48,3))\n",
        "\n",
        "for i in range(35887):\n",
        "  for j in range(48):\n",
        "    for k in range(48):\n",
        "      a[i][j][k][0]=train_pixels[i][j][k][0]\n",
        "      a[i][j][k][1]=train_pixels[i][j][k][0]\n",
        "      a[i][j][k][2]=train_pixels[i][j][k][0]\n",
        "      "
      ],
      "metadata": {
        "id": "Z9HnEop66yxL"
      },
      "execution_count": 30,
      "outputs": []
    },
    {
      "cell_type": "code",
      "source": [
        "X_train1, X_test1, y_train1, y_test1 = train_test_split(a, labels, test_size=0.15, shuffle=True)"
      ],
      "metadata": {
        "id": "um9a45rF-Poc"
      },
      "execution_count": 31,
      "outputs": []
    },
    {
      "cell_type": "code",
      "source": [
        "train_datagen = ImageDataGenerator(width_shift_range = 0.1,\n",
        "                               height_shift_range = 0.1,\n",
        "                               shear_range=0.2,\n",
        "                               horizontal_flip = True,\n",
        "                               vertical_flip=True,\n",
        "                               zoom_range = 0.2)\n",
        "test_datagen = ImageDataGenerator() \n",
        "\n",
        "train_datagen.fit(X_train1)\n",
        "test_datagen.fit(X_test1)\n",
        "\n",
        "train_generator = train_datagen.flow(X_train1, y_train1, batch_size=64)\n",
        "val_generator = test_datagen.flow(X_test1, y_test1, batch_size=64)"
      ],
      "metadata": {
        "id": "TTto6i4p70Cq"
      },
      "execution_count": 32,
      "outputs": []
    },
    {
      "cell_type": "code",
      "source": [
        "from keras import layers\n",
        "from keras.layers import Conv2D, MaxPooling2D, Dropout, Flatten, Dense, Activation,GlobalMaxPooling2D\n",
        "from keras import applications\n",
        "from keras import optimizers\n",
        "from keras.applications.vgg16 import VGG16\n",
        "from keras.models import Model\n",
        "\n",
        "\n",
        "input_shape = (48, 48, 3)\n",
        "epochs = 40\n",
        "batch_size = 32\n",
        "pre_trained_model = VGG16(input_shape=input_shape, include_top=False, weights=\"imagenet\")"
      ],
      "metadata": {
        "id": "3La0gxv15vnZ"
      },
      "execution_count": 33,
      "outputs": []
    },
    {
      "cell_type": "code",
      "source": [
        "pre_trained_model.summary()"
      ],
      "metadata": {
        "colab": {
          "base_uri": "https://localhost:8080/"
        },
        "id": "5nuJuzCF5y7x",
        "outputId": "9df46ed9-9218-4821-b467-8f13efe4f58b"
      },
      "execution_count": 34,
      "outputs": [
        {
          "output_type": "stream",
          "name": "stdout",
          "text": [
            "Model: \"vgg16\"\n",
            "_________________________________________________________________\n",
            " Layer (type)                Output Shape              Param #   \n",
            "=================================================================\n",
            " input_1 (InputLayer)        [(None, 48, 48, 3)]       0         \n",
            "                                                                 \n",
            " block1_conv1 (Conv2D)       (None, 48, 48, 64)        1792      \n",
            "                                                                 \n",
            " block1_conv2 (Conv2D)       (None, 48, 48, 64)        36928     \n",
            "                                                                 \n",
            " block1_pool (MaxPooling2D)  (None, 24, 24, 64)        0         \n",
            "                                                                 \n",
            " block2_conv1 (Conv2D)       (None, 24, 24, 128)       73856     \n",
            "                                                                 \n",
            " block2_conv2 (Conv2D)       (None, 24, 24, 128)       147584    \n",
            "                                                                 \n",
            " block2_pool (MaxPooling2D)  (None, 12, 12, 128)       0         \n",
            "                                                                 \n",
            " block3_conv1 (Conv2D)       (None, 12, 12, 256)       295168    \n",
            "                                                                 \n",
            " block3_conv2 (Conv2D)       (None, 12, 12, 256)       590080    \n",
            "                                                                 \n",
            " block3_conv3 (Conv2D)       (None, 12, 12, 256)       590080    \n",
            "                                                                 \n",
            " block3_pool (MaxPooling2D)  (None, 6, 6, 256)         0         \n",
            "                                                                 \n",
            " block4_conv1 (Conv2D)       (None, 6, 6, 512)         1180160   \n",
            "                                                                 \n",
            " block4_conv2 (Conv2D)       (None, 6, 6, 512)         2359808   \n",
            "                                                                 \n",
            " block4_conv3 (Conv2D)       (None, 6, 6, 512)         2359808   \n",
            "                                                                 \n",
            " block4_pool (MaxPooling2D)  (None, 3, 3, 512)         0         \n",
            "                                                                 \n",
            " block5_conv1 (Conv2D)       (None, 3, 3, 512)         2359808   \n",
            "                                                                 \n",
            " block5_conv2 (Conv2D)       (None, 3, 3, 512)         2359808   \n",
            "                                                                 \n",
            " block5_conv3 (Conv2D)       (None, 3, 3, 512)         2359808   \n",
            "                                                                 \n",
            " block5_pool (MaxPooling2D)  (None, 1, 1, 512)         0         \n",
            "                                                                 \n",
            "=================================================================\n",
            "Total params: 14,714,688\n",
            "Trainable params: 14,714,688\n",
            "Non-trainable params: 0\n",
            "_________________________________________________________________\n"
          ]
        }
      ]
    },
    {
      "cell_type": "code",
      "source": [
        "    \n",
        "for layer in pre_trained_model.layers[:15]:\n",
        "    layer.trainable = False\n",
        "\n",
        "for layer in pre_trained_model.layers[15:]:\n",
        "    layer.trainable = True\n",
        "    \n",
        "last_layer = pre_trained_model.get_layer('block5_pool')\n",
        "last_output = last_layer.output\n",
        "    \n",
        "# Flatten the output layer to 1 dimension\n",
        "x = GlobalMaxPooling2D()(last_output)\n",
        "# Add a fully connected layer with 512 hidden units and ReLU activation\n",
        "x = Dense(512, activation='relu')(x)\n",
        "# Add a dropout rate of 0.5\n",
        "x = Dropout(0.5)(x)\n",
        "# Add a final sigmoid layer for classification\n",
        "x = layers.Dense(7, activation='softmax')(x)\n",
        "\n",
        "model1 = Model(pre_trained_model.input, x)"
      ],
      "metadata": {
        "id": "1amqqHaLknWr"
      },
      "execution_count": 37,
      "outputs": []
    },
    {
      "cell_type": "code",
      "source": [
        "model1.compile(\n",
        "    optimizer = Adam(lr=0.0001), \n",
        "    loss='categorical_crossentropy', \n",
        "    metrics=['accuracy'])\n",
        "\n",
        "model1.summary()"
      ],
      "metadata": {
        "colab": {
          "base_uri": "https://localhost:8080/"
        },
        "id": "diV6dnl66NG5",
        "outputId": "8208b73d-b84b-4414-ab9d-66e27bf1cc81"
      },
      "execution_count": 38,
      "outputs": [
        {
          "output_type": "stream",
          "name": "stdout",
          "text": [
            "Model: \"model\"\n",
            "_________________________________________________________________\n",
            " Layer (type)                Output Shape              Param #   \n",
            "=================================================================\n",
            " input_1 (InputLayer)        [(None, 48, 48, 3)]       0         \n",
            "                                                                 \n",
            " block1_conv1 (Conv2D)       (None, 48, 48, 64)        1792      \n",
            "                                                                 \n",
            " block1_conv2 (Conv2D)       (None, 48, 48, 64)        36928     \n",
            "                                                                 \n",
            " block1_pool (MaxPooling2D)  (None, 24, 24, 64)        0         \n",
            "                                                                 \n",
            " block2_conv1 (Conv2D)       (None, 24, 24, 128)       73856     \n",
            "                                                                 \n",
            " block2_conv2 (Conv2D)       (None, 24, 24, 128)       147584    \n",
            "                                                                 \n",
            " block2_pool (MaxPooling2D)  (None, 12, 12, 128)       0         \n",
            "                                                                 \n",
            " block3_conv1 (Conv2D)       (None, 12, 12, 256)       295168    \n",
            "                                                                 \n",
            " block3_conv2 (Conv2D)       (None, 12, 12, 256)       590080    \n",
            "                                                                 \n",
            " block3_conv3 (Conv2D)       (None, 12, 12, 256)       590080    \n",
            "                                                                 \n",
            " block3_pool (MaxPooling2D)  (None, 6, 6, 256)         0         \n",
            "                                                                 \n",
            " block4_conv1 (Conv2D)       (None, 6, 6, 512)         1180160   \n",
            "                                                                 \n",
            " block4_conv2 (Conv2D)       (None, 6, 6, 512)         2359808   \n",
            "                                                                 \n",
            " block4_conv3 (Conv2D)       (None, 6, 6, 512)         2359808   \n",
            "                                                                 \n",
            " block4_pool (MaxPooling2D)  (None, 3, 3, 512)         0         \n",
            "                                                                 \n",
            " block5_conv1 (Conv2D)       (None, 3, 3, 512)         2359808   \n",
            "                                                                 \n",
            " block5_conv2 (Conv2D)       (None, 3, 3, 512)         2359808   \n",
            "                                                                 \n",
            " block5_conv3 (Conv2D)       (None, 3, 3, 512)         2359808   \n",
            "                                                                 \n",
            " block5_pool (MaxPooling2D)  (None, 1, 1, 512)         0         \n",
            "                                                                 \n",
            " global_max_pooling2d_1 (Glo  (None, 512)              0         \n",
            " balMaxPooling2D)                                                \n",
            "                                                                 \n",
            " dense_1 (Dense)             (None, 512)               262656    \n",
            "                                                                 \n",
            " dropout_1 (Dropout)         (None, 512)               0         \n",
            "                                                                 \n",
            " dense_2 (Dense)             (None, 7)                 3591      \n",
            "                                                                 \n",
            "=================================================================\n",
            "Total params: 14,980,935\n",
            "Trainable params: 7,345,671\n",
            "Non-trainable params: 7,635,264\n",
            "_________________________________________________________________\n"
          ]
        }
      ]
    },
    {
      "cell_type": "code",
      "source": [
        "checkpointer = [EarlyStopping(monitor = 'val_accuracy', verbose = 1, \n",
        "                              restore_best_weights=True,mode=\"max\",patience = 5),\n",
        "                ModelCheckpoint('best_model.h5',monitor=\"val_accuracy\",verbose=1,\n",
        "                                save_best_only=True,mode=\"max\")]"
      ],
      "metadata": {
        "id": "858nmGF76RyH"
      },
      "execution_count": 39,
      "outputs": []
    },
    {
      "cell_type": "code",
      "source": [
        "training = model1.fit(train_generator,\n",
        "                   epochs=40,\n",
        "                   validation_data=val_generator,\n",
        "                   callbacks=[checkpointer])"
      ],
      "metadata": {
        "colab": {
          "base_uri": "https://localhost:8080/"
        },
        "id": "zd9EtsL_6gUt",
        "outputId": "029068bd-39c0-414f-f927-112b75961a23"
      },
      "execution_count": 40,
      "outputs": [
        {
          "output_type": "stream",
          "name": "stdout",
          "text": [
            "Epoch 1/40\n",
            "477/477 [==============================] - ETA: 0s - loss: 1.6770 - accuracy: 0.3335\n",
            "Epoch 1: val_accuracy improved from -inf to 0.43221, saving model to best_model.h5\n",
            "477/477 [==============================] - 40s 63ms/step - loss: 1.6770 - accuracy: 0.3335 - val_loss: 1.5042 - val_accuracy: 0.4322\n",
            "Epoch 2/40\n",
            "477/477 [==============================] - ETA: 0s - loss: 1.5495 - accuracy: 0.3984\n",
            "Epoch 2: val_accuracy improved from 0.43221 to 0.45951, saving model to best_model.h5\n",
            "477/477 [==============================] - 31s 65ms/step - loss: 1.5495 - accuracy: 0.3984 - val_loss: 1.4227 - val_accuracy: 0.4595\n",
            "Epoch 3/40\n",
            "477/477 [==============================] - ETA: 0s - loss: 1.4889 - accuracy: 0.4324\n",
            "Epoch 3: val_accuracy improved from 0.45951 to 0.47084, saving model to best_model.h5\n",
            "477/477 [==============================] - 29s 61ms/step - loss: 1.4889 - accuracy: 0.4324 - val_loss: 1.3901 - val_accuracy: 0.4708\n",
            "Epoch 4/40\n",
            "477/477 [==============================] - ETA: 0s - loss: 1.4420 - accuracy: 0.4487\n",
            "Epoch 4: val_accuracy improved from 0.47084 to 0.48830, saving model to best_model.h5\n",
            "477/477 [==============================] - 29s 61ms/step - loss: 1.4420 - accuracy: 0.4487 - val_loss: 1.3463 - val_accuracy: 0.4883\n",
            "Epoch 5/40\n",
            "477/477 [==============================] - ETA: 0s - loss: 1.4111 - accuracy: 0.4599\n",
            "Epoch 5: val_accuracy improved from 0.48830 to 0.49926, saving model to best_model.h5\n",
            "477/477 [==============================] - 29s 61ms/step - loss: 1.4111 - accuracy: 0.4599 - val_loss: 1.3252 - val_accuracy: 0.4993\n",
            "Epoch 6/40\n",
            "477/477 [==============================] - ETA: 0s - loss: 1.3807 - accuracy: 0.4727\n",
            "Epoch 6: val_accuracy did not improve from 0.49926\n",
            "477/477 [==============================] - 28s 60ms/step - loss: 1.3807 - accuracy: 0.4727 - val_loss: 1.3118 - val_accuracy: 0.4989\n",
            "Epoch 7/40\n",
            "477/477 [==============================] - ETA: 0s - loss: 1.3422 - accuracy: 0.4892\n",
            "Epoch 7: val_accuracy improved from 0.49926 to 0.50762, saving model to best_model.h5\n",
            "477/477 [==============================] - 29s 60ms/step - loss: 1.3422 - accuracy: 0.4892 - val_loss: 1.2911 - val_accuracy: 0.5076\n",
            "Epoch 8/40\n",
            "477/477 [==============================] - ETA: 0s - loss: 1.3177 - accuracy: 0.5003\n",
            "Epoch 8: val_accuracy improved from 0.50762 to 0.51783, saving model to best_model.h5\n",
            "477/477 [==============================] - 30s 63ms/step - loss: 1.3177 - accuracy: 0.5003 - val_loss: 1.2792 - val_accuracy: 0.5178\n",
            "Epoch 9/40\n",
            "477/477 [==============================] - ETA: 0s - loss: 1.2991 - accuracy: 0.5075\n",
            "Epoch 9: val_accuracy improved from 0.51783 to 0.53176, saving model to best_model.h5\n",
            "477/477 [==============================] - 29s 61ms/step - loss: 1.2991 - accuracy: 0.5075 - val_loss: 1.2506 - val_accuracy: 0.5318\n",
            "Epoch 10/40\n",
            "477/477 [==============================] - ETA: 0s - loss: 1.2757 - accuracy: 0.5179\n",
            "Epoch 10: val_accuracy did not improve from 0.53176\n",
            "477/477 [==============================] - 29s 60ms/step - loss: 1.2757 - accuracy: 0.5179 - val_loss: 1.2629 - val_accuracy: 0.5217\n",
            "Epoch 11/40\n",
            "477/477 [==============================] - ETA: 0s - loss: 1.2657 - accuracy: 0.5206\n",
            "Epoch 11: val_accuracy improved from 0.53176 to 0.53195, saving model to best_model.h5\n",
            "477/477 [==============================] - 29s 61ms/step - loss: 1.2657 - accuracy: 0.5206 - val_loss: 1.2403 - val_accuracy: 0.5319\n",
            "Epoch 12/40\n",
            "477/477 [==============================] - ETA: 0s - loss: 1.2440 - accuracy: 0.5313\n",
            "Epoch 12: val_accuracy improved from 0.53195 to 0.53585, saving model to best_model.h5\n",
            "477/477 [==============================] - 29s 61ms/step - loss: 1.2440 - accuracy: 0.5313 - val_loss: 1.2503 - val_accuracy: 0.5358\n",
            "Epoch 13/40\n",
            "477/477 [==============================] - ETA: 0s - loss: 1.2213 - accuracy: 0.5411\n",
            "Epoch 13: val_accuracy did not improve from 0.53585\n",
            "477/477 [==============================] - 29s 60ms/step - loss: 1.2213 - accuracy: 0.5411 - val_loss: 1.2450 - val_accuracy: 0.5325\n",
            "Epoch 14/40\n",
            "477/477 [==============================] - ETA: 0s - loss: 1.2087 - accuracy: 0.5418\n",
            "Epoch 14: val_accuracy improved from 0.53585 to 0.53882, saving model to best_model.h5\n",
            "477/477 [==============================] - 29s 61ms/step - loss: 1.2087 - accuracy: 0.5418 - val_loss: 1.2374 - val_accuracy: 0.5388\n",
            "Epoch 15/40\n",
            "477/477 [==============================] - ETA: 0s - loss: 1.1894 - accuracy: 0.5533\n",
            "Epoch 15: val_accuracy improved from 0.53882 to 0.54142, saving model to best_model.h5\n",
            "477/477 [==============================] - 29s 61ms/step - loss: 1.1894 - accuracy: 0.5533 - val_loss: 1.2205 - val_accuracy: 0.5414\n",
            "Epoch 16/40\n",
            "477/477 [==============================] - ETA: 0s - loss: 1.1771 - accuracy: 0.5592\n",
            "Epoch 16: val_accuracy improved from 0.54142 to 0.54421, saving model to best_model.h5\n",
            "477/477 [==============================] - 29s 61ms/step - loss: 1.1771 - accuracy: 0.5592 - val_loss: 1.2171 - val_accuracy: 0.5442\n",
            "Epoch 17/40\n",
            "477/477 [==============================] - ETA: 0s - loss: 1.1670 - accuracy: 0.5616\n",
            "Epoch 17: val_accuracy did not improve from 0.54421\n",
            "477/477 [==============================] - 29s 60ms/step - loss: 1.1670 - accuracy: 0.5616 - val_loss: 1.2495 - val_accuracy: 0.5251\n",
            "Epoch 18/40\n",
            "477/477 [==============================] - ETA: 0s - loss: 1.1554 - accuracy: 0.5655\n",
            "Epoch 18: val_accuracy did not improve from 0.54421\n",
            "477/477 [==============================] - 29s 60ms/step - loss: 1.1554 - accuracy: 0.5655 - val_loss: 1.2379 - val_accuracy: 0.5425\n",
            "Epoch 19/40\n",
            "477/477 [==============================] - ETA: 0s - loss: 1.1355 - accuracy: 0.5732\n",
            "Epoch 19: val_accuracy improved from 0.54421 to 0.55145, saving model to best_model.h5\n",
            "477/477 [==============================] - 29s 61ms/step - loss: 1.1355 - accuracy: 0.5732 - val_loss: 1.2018 - val_accuracy: 0.5514\n",
            "Epoch 20/40\n",
            "477/477 [==============================] - ETA: 0s - loss: 1.1249 - accuracy: 0.5815\n",
            "Epoch 20: val_accuracy did not improve from 0.55145\n",
            "477/477 [==============================] - 29s 60ms/step - loss: 1.1249 - accuracy: 0.5815 - val_loss: 1.2339 - val_accuracy: 0.5396\n",
            "Epoch 21/40\n",
            "477/477 [==============================] - ETA: 0s - loss: 1.1127 - accuracy: 0.5826\n",
            "Epoch 21: val_accuracy improved from 0.55145 to 0.55238, saving model to best_model.h5\n",
            "477/477 [==============================] - 29s 61ms/step - loss: 1.1127 - accuracy: 0.5826 - val_loss: 1.2059 - val_accuracy: 0.5524\n",
            "Epoch 22/40\n",
            "477/477 [==============================] - ETA: 0s - loss: 1.0910 - accuracy: 0.5916\n",
            "Epoch 22: val_accuracy did not improve from 0.55238\n",
            "477/477 [==============================] - 29s 60ms/step - loss: 1.0910 - accuracy: 0.5916 - val_loss: 1.2273 - val_accuracy: 0.5444\n",
            "Epoch 23/40\n",
            "477/477 [==============================] - ETA: 0s - loss: 1.0757 - accuracy: 0.5978\n",
            "Epoch 23: val_accuracy did not improve from 0.55238\n",
            "477/477 [==============================] - 30s 62ms/step - loss: 1.0757 - accuracy: 0.5978 - val_loss: 1.2419 - val_accuracy: 0.5420\n",
            "Epoch 24/40\n",
            "477/477 [==============================] - ETA: 0s - loss: 1.0581 - accuracy: 0.6052\n",
            "Epoch 24: val_accuracy did not improve from 0.55238\n",
            "477/477 [==============================] - 29s 60ms/step - loss: 1.0581 - accuracy: 0.6052 - val_loss: 1.1944 - val_accuracy: 0.5522\n",
            "Epoch 25/40\n",
            "477/477 [==============================] - ETA: 0s - loss: 1.0510 - accuracy: 0.6096\n",
            "Epoch 25: val_accuracy improved from 0.55238 to 0.56222, saving model to best_model.h5\n",
            "477/477 [==============================] - 29s 61ms/step - loss: 1.0510 - accuracy: 0.6096 - val_loss: 1.2035 - val_accuracy: 0.5622\n",
            "Epoch 26/40\n",
            "477/477 [==============================] - ETA: 0s - loss: 1.0385 - accuracy: 0.6125\n",
            "Epoch 26: val_accuracy did not improve from 0.56222\n",
            "477/477 [==============================] - 29s 60ms/step - loss: 1.0385 - accuracy: 0.6125 - val_loss: 1.2103 - val_accuracy: 0.5527\n",
            "Epoch 27/40\n",
            "477/477 [==============================] - ETA: 0s - loss: 1.0194 - accuracy: 0.6204\n",
            "Epoch 27: val_accuracy did not improve from 0.56222\n",
            "477/477 [==============================] - 29s 60ms/step - loss: 1.0194 - accuracy: 0.6204 - val_loss: 1.2243 - val_accuracy: 0.5531\n",
            "Epoch 28/40\n",
            "477/477 [==============================] - ETA: 0s - loss: 1.0178 - accuracy: 0.6236\n",
            "Epoch 28: val_accuracy did not improve from 0.56222\n",
            "477/477 [==============================] - 29s 60ms/step - loss: 1.0178 - accuracy: 0.6236 - val_loss: 1.2118 - val_accuracy: 0.5542\n",
            "Epoch 29/40\n",
            "477/477 [==============================] - ETA: 0s - loss: 0.9863 - accuracy: 0.6373\n",
            "Epoch 29: val_accuracy did not improve from 0.56222\n",
            "477/477 [==============================] - 29s 60ms/step - loss: 0.9863 - accuracy: 0.6373 - val_loss: 1.2115 - val_accuracy: 0.5589\n",
            "Epoch 30/40\n",
            "477/477 [==============================] - ETA: 0s - loss: 0.9889 - accuracy: 0.6355\n",
            "Epoch 30: val_accuracy improved from 0.56222 to 0.56389, saving model to best_model.h5\n",
            "477/477 [==============================] - 29s 61ms/step - loss: 0.9889 - accuracy: 0.6355 - val_loss: 1.2012 - val_accuracy: 0.5639\n",
            "Epoch 31/40\n",
            "477/477 [==============================] - ETA: 0s - loss: 0.9663 - accuracy: 0.6439\n",
            "Epoch 31: val_accuracy did not improve from 0.56389\n",
            "477/477 [==============================] - 30s 62ms/step - loss: 0.9663 - accuracy: 0.6439 - val_loss: 1.2288 - val_accuracy: 0.5472\n",
            "Epoch 32/40\n",
            "477/477 [==============================] - ETA: 0s - loss: 0.9558 - accuracy: 0.6463\n",
            "Epoch 32: val_accuracy improved from 0.56389 to 0.56426, saving model to best_model.h5\n",
            "477/477 [==============================] - 29s 61ms/step - loss: 0.9558 - accuracy: 0.6463 - val_loss: 1.2233 - val_accuracy: 0.5643\n",
            "Epoch 33/40\n",
            "476/477 [============================>.] - ETA: 0s - loss: 0.9433 - accuracy: 0.6532\n",
            "Epoch 33: val_accuracy did not improve from 0.56426\n",
            "477/477 [==============================] - 29s 60ms/step - loss: 0.9433 - accuracy: 0.6531 - val_loss: 1.2395 - val_accuracy: 0.5624\n",
            "Epoch 34/40\n",
            "477/477 [==============================] - ETA: 0s - loss: 0.9314 - accuracy: 0.6568\n",
            "Epoch 34: val_accuracy did not improve from 0.56426\n",
            "477/477 [==============================] - 29s 60ms/step - loss: 0.9314 - accuracy: 0.6568 - val_loss: 1.2327 - val_accuracy: 0.5643\n",
            "Epoch 35/40\n",
            "477/477 [==============================] - ETA: 0s - loss: 0.9217 - accuracy: 0.6618\n",
            "Epoch 35: val_accuracy improved from 0.56426 to 0.56947, saving model to best_model.h5\n",
            "477/477 [==============================] - 29s 61ms/step - loss: 0.9217 - accuracy: 0.6618 - val_loss: 1.2184 - val_accuracy: 0.5695\n",
            "Epoch 36/40\n",
            "477/477 [==============================] - ETA: 0s - loss: 0.9064 - accuracy: 0.6660\n",
            "Epoch 36: val_accuracy did not improve from 0.56947\n",
            "477/477 [==============================] - 29s 60ms/step - loss: 0.9064 - accuracy: 0.6660 - val_loss: 1.2458 - val_accuracy: 0.5607\n",
            "Epoch 37/40\n",
            "477/477 [==============================] - ETA: 0s - loss: 0.8971 - accuracy: 0.6697\n",
            "Epoch 37: val_accuracy did not improve from 0.56947\n",
            "477/477 [==============================] - 29s 60ms/step - loss: 0.8971 - accuracy: 0.6697 - val_loss: 1.2414 - val_accuracy: 0.5578\n",
            "Epoch 38/40\n",
            "477/477 [==============================] - ETA: 0s - loss: 0.8866 - accuracy: 0.6753\n",
            "Epoch 38: val_accuracy did not improve from 0.56947\n",
            "477/477 [==============================] - 29s 60ms/step - loss: 0.8866 - accuracy: 0.6753 - val_loss: 1.2261 - val_accuracy: 0.5583\n",
            "Epoch 39/40\n",
            "477/477 [==============================] - ETA: 0s - loss: 0.8709 - accuracy: 0.6802\n",
            "Epoch 39: val_accuracy did not improve from 0.56947\n",
            "477/477 [==============================] - 29s 62ms/step - loss: 0.8709 - accuracy: 0.6802 - val_loss: 1.2265 - val_accuracy: 0.5691\n",
            "Epoch 40/40\n",
            "477/477 [==============================] - ETA: 0s - loss: 0.8592 - accuracy: 0.6834\n",
            "Epoch 40: val_accuracy improved from 0.56947 to 0.57318, saving model to best_model.h5\n",
            "477/477 [==============================] - 29s 61ms/step - loss: 0.8592 - accuracy: 0.6834 - val_loss: 1.2295 - val_accuracy: 0.5732\n"
          ]
        }
      ]
    },
    {
      "cell_type": "code",
      "source": [
        "plt.plot(training.history[\"loss\"],'r', label=\"Training Loss\")\n",
        "plt.plot(training.history[\"val_loss\"],'b', label=\"Validation Loss\")\n",
        "plt.legend()"
      ],
      "metadata": {
        "colab": {
          "base_uri": "https://localhost:8080/",
          "height": 283
        },
        "id": "Ez2ZG9JU6i4n",
        "outputId": "0235f0c8-7122-4619-d171-c1126e11fb80"
      },
      "execution_count": 42,
      "outputs": [
        {
          "output_type": "execute_result",
          "data": {
            "text/plain": [
              "<matplotlib.legend.Legend at 0x7f3c2028e0a0>"
            ]
          },
          "metadata": {},
          "execution_count": 42
        },
        {
          "output_type": "display_data",
          "data": {
            "text/plain": [
              "<Figure size 432x288 with 1 Axes>"
            ],
            "image/png": "[encoded data removed]"
          },
          "metadata": {
            "needs_background": "light"
          }
        }
      ]
    },
    {
      "cell_type": "code",
      "source": [
        "test_loss,test_acc=model1.evaluate(X_test1,y_test1,verbose=3)\n",
        "test_loss,test_acc"
      ],
      "metadata": {
        "colab": {
          "base_uri": "https://localhost:8080/"
        },
        "id": "1Yww51gZEkkF",
        "outputId": "b8152be2-3581-40c9-b9a2-8f10465dd05c"
      },
      "execution_count": 43,
      "outputs": [
        {
          "output_type": "execute_result",
          "data": {
            "text/plain": [
              "(1.2295411825180054, 0.5731797814369202)"
            ]
          },
          "metadata": {},
          "execution_count": 43
        }
      ]
    },
    {
      "cell_type": "code",
      "source": [
        "predictions=model1.predict(X_test1)"
      ],
      "metadata": {
        "colab": {
          "base_uri": "https://localhost:8080/"
        },
        "id": "MSEWFVlaEncX",
        "outputId": "4fe522ef-eae3-4cbf-ead0-0711db7ab088"
      },
      "execution_count": 44,
      "outputs": [
        {
          "output_type": "stream",
          "name": "stdout",
          "text": [
            "169/169 [==============================] - 2s 12ms/step\n"
          ]
        }
      ]
    },
    {
      "cell_type": "code",
      "source": [
        "print(confusion_matrix(np.argmax(y_test1, axis = 1 ), np.argmax(model1.predict(X_test1),axis=1)))"
      ],
      "metadata": {
        "colab": {
          "base_uri": "https://localhost:8080/"
        },
        "id": "Eah66FCEEG52",
        "outputId": "b4f4f704-3db9-4560-d2b0-9cb48219879b"
      },
      "execution_count": 45,
      "outputs": [
        {
          "output_type": "stream",
          "name": "stdout",
          "text": [
            "169/169 [==============================] - 3s 12ms/step\n",
            "[[ 269   14   92   74  105   21  164]\n",
            " [   5   44    3    6    5    1    7]\n",
            " [  57    6  318   66  120   56  113]\n",
            " [  50    6   54 1102   57   34  116]\n",
            " [  56    6  107   99  372   22  212]\n",
            " [  20    0   67   46   13  417   55]\n",
            " [  40    6   56  112  116   33  564]]\n"
          ]
        }
      ]
    },
    {
      "cell_type": "code",
      "source": [
        "print(classification_report(np.argmax(y_test1, axis = 1 ), np.argmax(model1.predict(X_test1),axis=1)))"
      ],
      "metadata": {
        "colab": {
          "base_uri": "https://localhost:8080/"
        },
        "id": "Ramj-HWaEG1C",
        "outputId": "18590a37-7cf6-47aa-9632-8ba169ab715a"
      },
      "execution_count": 46,
      "outputs": [
        {
          "output_type": "stream",
          "name": "stdout",
          "text": [
            "169/169 [==============================] - 2s 12ms/step\n",
            "              precision    recall  f1-score   support\n",
            "\n",
            "           0       0.54      0.36      0.44       739\n",
            "           1       0.54      0.62      0.58        71\n",
            "           2       0.46      0.43      0.44       736\n",
            "           3       0.73      0.78      0.75      1419\n",
            "           4       0.47      0.43      0.45       874\n",
            "           5       0.71      0.67      0.69       618\n",
            "           6       0.46      0.61      0.52       927\n",
            "\n",
            "    accuracy                           0.57      5384\n",
            "   macro avg       0.56      0.56      0.55      5384\n",
            "weighted avg       0.57      0.57      0.57      5384\n",
            "\n"
          ]
        }
      ]
    }
  ],
  "metadata": {
    "accelerator": "GPU",
    "colab": {
      "provenance": []
    },
    "gpuClass": "standard",
    "kernelspec": {
      "display_name": "Python 3",
      "name": "python3"
    },
    "language_info": {
      "name": "python"
    }
  },
  "nbformat": 4,
  "nbformat_minor": 0
}